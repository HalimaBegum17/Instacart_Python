{
 "cells": [
  {
   "cell_type": "markdown",
   "id": "f6093453",
   "metadata": {},
   "source": [
    "## Contents\n",
    "\n",
    "1. [Importing Libraries](#1.-Importing-Libraries)     \n",
    "\t1.1. [Importing Dataframes](#1.1-Importing-Dataframes)      \n",
    "2. [Checking the busiest hours by aggregating the sum of prices](#2.-Checking-the-busiest-hours-by-aggregating-the-sum-of-prices)   \n",
    "\t2.1. [Creating a bar chart to show department orders at 10am](#2.1-Creating-a-bar-chart-to-show-department-orders-at-10am)    \n",
    "\t2.2. [Creating a bar chart to show department orders at 3am](#2.2-Creating-a-bar-chart-to-show-department-orders-at-3am)    \n",
    "\t2.3. [Exporting bar chart visualisations](#2.3-Exporting-bar-chart-visualisations)    \n",
    "3. [Checking the most popular products in departments 4 and 16](#3.-Checking-the-most-popular-products-in-departments-4-and-16)      \n",
    "4. [Checking to see what products are found in mid-range/ low-range products](#4.-Checking-to-see-what-products-are-found-in-mid-range/-low-range-products)    \n",
    "5. [Creating a bar chart to show customer loyalty](#5.-Creating-a-bar-chart-to-show-customer-loyalty)    \n",
    "\t5.1. [Exporting customer loyalty bar chart](#5.1-Exporting-customer-loyalty-bar-chart)    \n",
    "6. [Conducting some exploratory analysis of customer demographics to inform the targeted marketing campaigns](#6.-Conducting-some-exploratory-analysis-of-customer-demographics-to-inform-the-targeted-marketing-campaigns)      \n",
    "\t6.1.[Creating a scatterplot exploring the relationship between age and family status](#6.1-Creating-a-scatterplot-exploring-the-relationship-between-age-and-family-status)     \n",
    "\t6.2. [Exporting scatterplot visualisation as 'png'](#6.2-Exporting-scatterplot-visualisation-as-'png')    \n",
    "7. [Creating and Exporting a bar chart to show the average prices by order_hour_of_day](#7.-Creating-and-Exporting-a-bar-chart-to-show-the-average-prices-by-order-hour-of-day)    \n",
    "8. [Creating and Exporting a bar chart showing the sum of prices by order_hour_of_day](#8.-Creating-and-Exporting-a-bar-chart-showing-the-sum-of-prices-by-order-hour-of-day)    \n",
    "9. [Checking the basic statistics of prices](#9.-Checking-the-basic-statistics-of-prices)    \n",
    "10. [Checking the products in the bulk and missing departments](#10.-Checking-the-products-in-the-bulk-and-missing-departments)    "
   ]
  },
  {
   "cell_type": "markdown",
   "id": "f2b8e632",
   "metadata": {},
   "source": [
    "## 1. Importing Libraries"
   ]
  },
  {
   "cell_type": "code",
   "execution_count": 1,
   "id": "f98a6ab9",
   "metadata": {},
   "outputs": [],
   "source": [
    "import pandas as pd\n",
    "import numpy as np\n",
    "import os\n",
    "import matplotlib.pyplot as plt\n",
    "import seaborn as sns\n",
    "import scipy"
   ]
  },
  {
   "cell_type": "markdown",
   "id": "5d40652d",
   "metadata": {},
   "source": [
    "### 1.2. Importing Dataframes"
   ]
  },
  {
   "cell_type": "code",
   "execution_count": 2,
   "id": "ea37c07e",
   "metadata": {},
   "outputs": [],
   "source": [
    "path = r'C:\\Users\\User 1\\Documents\\Instacart Basket Analysis 04-2023'"
   ]
  },
  {
   "cell_type": "code",
   "execution_count": 3,
   "id": "9c113e32",
   "metadata": {},
   "outputs": [],
   "source": [
    "# Importing dataset\n",
    "df_final_dataset = pd.read_pickle(os.path.join(path, '02 Data', 'Prepared Data', 'df_final_dataset.pkl'))"
   ]
  },
  {
   "cell_type": "code",
   "execution_count": 4,
   "id": "2c76c870",
   "metadata": {},
   "outputs": [
    {
     "data": {
      "text/html": [
       "<div>\n",
       "<style scoped>\n",
       "    .dataframe tbody tr th:only-of-type {\n",
       "        vertical-align: middle;\n",
       "    }\n",
       "\n",
       "    .dataframe tbody tr th {\n",
       "        vertical-align: top;\n",
       "    }\n",
       "\n",
       "    .dataframe thead th {\n",
       "        text-align: right;\n",
       "    }\n",
       "</style>\n",
       "<table border=\"1\" class=\"dataframe\">\n",
       "  <thead>\n",
       "    <tr style=\"text-align: right;\">\n",
       "      <th></th>\n",
       "      <th>user_id</th>\n",
       "      <th>gender</th>\n",
       "      <th>state</th>\n",
       "      <th>age</th>\n",
       "      <th>date_joined</th>\n",
       "      <th>number_of_dependants</th>\n",
       "      <th>family_status</th>\n",
       "      <th>income</th>\n",
       "      <th>order_id</th>\n",
       "      <th>order_number</th>\n",
       "      <th>...</th>\n",
       "      <th>avg_price</th>\n",
       "      <th>spending_flag</th>\n",
       "      <th>median_frequency</th>\n",
       "      <th>order_frequency_flag</th>\n",
       "      <th>region</th>\n",
       "      <th>activity_flag</th>\n",
       "      <th>age_profile</th>\n",
       "      <th>income_flag</th>\n",
       "      <th>family_profile</th>\n",
       "      <th>dependant_status</th>\n",
       "    </tr>\n",
       "  </thead>\n",
       "  <tbody>\n",
       "    <tr>\n",
       "      <th>0</th>\n",
       "      <td>26711</td>\n",
       "      <td>Female</td>\n",
       "      <td>Missouri</td>\n",
       "      <td>48</td>\n",
       "      <td>1/1/2017</td>\n",
       "      <td>3</td>\n",
       "      <td>married</td>\n",
       "      <td>165665</td>\n",
       "      <td>2543867</td>\n",
       "      <td>5</td>\n",
       "      <td>...</td>\n",
       "      <td>7.988889</td>\n",
       "      <td>Low spender</td>\n",
       "      <td>19.0</td>\n",
       "      <td>Regular customer</td>\n",
       "      <td>Midwest</td>\n",
       "      <td>active</td>\n",
       "      <td>40-60</td>\n",
       "      <td>High-income</td>\n",
       "      <td>Middle-aged with children</td>\n",
       "      <td>with children</td>\n",
       "    </tr>\n",
       "    <tr>\n",
       "      <th>1</th>\n",
       "      <td>26711</td>\n",
       "      <td>Female</td>\n",
       "      <td>Missouri</td>\n",
       "      <td>48</td>\n",
       "      <td>1/1/2017</td>\n",
       "      <td>3</td>\n",
       "      <td>married</td>\n",
       "      <td>165665</td>\n",
       "      <td>1285508</td>\n",
       "      <td>7</td>\n",
       "      <td>...</td>\n",
       "      <td>7.988889</td>\n",
       "      <td>Low spender</td>\n",
       "      <td>19.0</td>\n",
       "      <td>Regular customer</td>\n",
       "      <td>Midwest</td>\n",
       "      <td>active</td>\n",
       "      <td>40-60</td>\n",
       "      <td>High-income</td>\n",
       "      <td>Middle-aged with children</td>\n",
       "      <td>with children</td>\n",
       "    </tr>\n",
       "    <tr>\n",
       "      <th>2</th>\n",
       "      <td>26711</td>\n",
       "      <td>Female</td>\n",
       "      <td>Missouri</td>\n",
       "      <td>48</td>\n",
       "      <td>1/1/2017</td>\n",
       "      <td>3</td>\n",
       "      <td>married</td>\n",
       "      <td>165665</td>\n",
       "      <td>2578584</td>\n",
       "      <td>8</td>\n",
       "      <td>...</td>\n",
       "      <td>7.988889</td>\n",
       "      <td>Low spender</td>\n",
       "      <td>19.0</td>\n",
       "      <td>Regular customer</td>\n",
       "      <td>Midwest</td>\n",
       "      <td>active</td>\n",
       "      <td>40-60</td>\n",
       "      <td>High-income</td>\n",
       "      <td>Middle-aged with children</td>\n",
       "      <td>with children</td>\n",
       "    </tr>\n",
       "    <tr>\n",
       "      <th>3</th>\n",
       "      <td>26711</td>\n",
       "      <td>Female</td>\n",
       "      <td>Missouri</td>\n",
       "      <td>48</td>\n",
       "      <td>1/1/2017</td>\n",
       "      <td>3</td>\n",
       "      <td>married</td>\n",
       "      <td>165665</td>\n",
       "      <td>423547</td>\n",
       "      <td>2</td>\n",
       "      <td>...</td>\n",
       "      <td>7.988889</td>\n",
       "      <td>Low spender</td>\n",
       "      <td>19.0</td>\n",
       "      <td>Regular customer</td>\n",
       "      <td>Midwest</td>\n",
       "      <td>active</td>\n",
       "      <td>40-60</td>\n",
       "      <td>High-income</td>\n",
       "      <td>Middle-aged with children</td>\n",
       "      <td>with children</td>\n",
       "    </tr>\n",
       "    <tr>\n",
       "      <th>4</th>\n",
       "      <td>26711</td>\n",
       "      <td>Female</td>\n",
       "      <td>Missouri</td>\n",
       "      <td>48</td>\n",
       "      <td>1/1/2017</td>\n",
       "      <td>3</td>\n",
       "      <td>married</td>\n",
       "      <td>165665</td>\n",
       "      <td>2524893</td>\n",
       "      <td>3</td>\n",
       "      <td>...</td>\n",
       "      <td>7.988889</td>\n",
       "      <td>Low spender</td>\n",
       "      <td>19.0</td>\n",
       "      <td>Regular customer</td>\n",
       "      <td>Midwest</td>\n",
       "      <td>active</td>\n",
       "      <td>40-60</td>\n",
       "      <td>High-income</td>\n",
       "      <td>Middle-aged with children</td>\n",
       "      <td>with children</td>\n",
       "    </tr>\n",
       "  </tbody>\n",
       "</table>\n",
       "<p>5 rows × 37 columns</p>\n",
       "</div>"
      ],
      "text/plain": [
       "   user_id  gender     state  age date_joined  number_of_dependants  \\\n",
       "0    26711  Female  Missouri   48    1/1/2017                     3   \n",
       "1    26711  Female  Missouri   48    1/1/2017                     3   \n",
       "2    26711  Female  Missouri   48    1/1/2017                     3   \n",
       "3    26711  Female  Missouri   48    1/1/2017                     3   \n",
       "4    26711  Female  Missouri   48    1/1/2017                     3   \n",
       "\n",
       "  family_status  income  order_id  order_number  ...  avg_price  \\\n",
       "0       married  165665   2543867             5  ...   7.988889   \n",
       "1       married  165665   1285508             7  ...   7.988889   \n",
       "2       married  165665   2578584             8  ...   7.988889   \n",
       "3       married  165665    423547             2  ...   7.988889   \n",
       "4       married  165665   2524893             3  ...   7.988889   \n",
       "\n",
       "   spending_flag  median_frequency  order_frequency_flag   region  \\\n",
       "0    Low spender              19.0      Regular customer  Midwest   \n",
       "1    Low spender              19.0      Regular customer  Midwest   \n",
       "2    Low spender              19.0      Regular customer  Midwest   \n",
       "3    Low spender              19.0      Regular customer  Midwest   \n",
       "4    Low spender              19.0      Regular customer  Midwest   \n",
       "\n",
       "   activity_flag age_profile  income_flag             family_profile  \\\n",
       "0         active       40-60  High-income  Middle-aged with children   \n",
       "1         active       40-60  High-income  Middle-aged with children   \n",
       "2         active       40-60  High-income  Middle-aged with children   \n",
       "3         active       40-60  High-income  Middle-aged with children   \n",
       "4         active       40-60  High-income  Middle-aged with children   \n",
       "\n",
       "   dependant_status  \n",
       "0     with children  \n",
       "1     with children  \n",
       "2     with children  \n",
       "3     with children  \n",
       "4     with children  \n",
       "\n",
       "[5 rows x 37 columns]"
      ]
     },
     "execution_count": 4,
     "metadata": {},
     "output_type": "execute_result"
    }
   ],
   "source": [
    "df_final_dataset.head()"
   ]
  },
  {
   "cell_type": "code",
   "execution_count": 5,
   "id": "8dc333e9",
   "metadata": {},
   "outputs": [
    {
     "data": {
      "text/plain": [
       "(32404859, 37)"
      ]
     },
     "execution_count": 5,
     "metadata": {},
     "output_type": "execute_result"
    }
   ],
   "source": [
    "df_final_dataset.shape"
   ]
  },
  {
   "cell_type": "markdown",
   "id": "6114cd57",
   "metadata": {},
   "source": [
    "## 2. Checking the busiest hours by aggregating the sum of prices"
   ]
  },
  {
   "cell_type": "code",
   "execution_count": 6,
   "id": "33d920c4",
   "metadata": {},
   "outputs": [
    {
     "data": {
      "text/html": [
       "<div>\n",
       "<style scoped>\n",
       "    .dataframe tbody tr th:only-of-type {\n",
       "        vertical-align: middle;\n",
       "    }\n",
       "\n",
       "    .dataframe tbody tr th {\n",
       "        vertical-align: top;\n",
       "    }\n",
       "\n",
       "    .dataframe thead tr th {\n",
       "        text-align: left;\n",
       "    }\n",
       "\n",
       "    .dataframe thead tr:last-of-type th {\n",
       "        text-align: right;\n",
       "    }\n",
       "</style>\n",
       "<table border=\"1\" class=\"dataframe\">\n",
       "  <thead>\n",
       "    <tr>\n",
       "      <th></th>\n",
       "      <th>prices</th>\n",
       "    </tr>\n",
       "    <tr>\n",
       "      <th></th>\n",
       "      <th>sum</th>\n",
       "    </tr>\n",
       "    <tr>\n",
       "      <th>order_hour_of_day</th>\n",
       "      <th></th>\n",
       "    </tr>\n",
       "  </thead>\n",
       "  <tbody>\n",
       "    <tr>\n",
       "      <th>10</th>\n",
       "      <td>21401143.73</td>\n",
       "    </tr>\n",
       "    <tr>\n",
       "      <th>11</th>\n",
       "      <td>21263117.84</td>\n",
       "    </tr>\n",
       "    <tr>\n",
       "      <th>14</th>\n",
       "      <td>20980726.82</td>\n",
       "    </tr>\n",
       "    <tr>\n",
       "      <th>15</th>\n",
       "      <td>20778397.54</td>\n",
       "    </tr>\n",
       "    <tr>\n",
       "      <th>13</th>\n",
       "      <td>20735913.96</td>\n",
       "    </tr>\n",
       "    <tr>\n",
       "      <th>12</th>\n",
       "      <td>20394080.92</td>\n",
       "    </tr>\n",
       "    <tr>\n",
       "      <th>16</th>\n",
       "      <td>19779059.42</td>\n",
       "    </tr>\n",
       "    <tr>\n",
       "      <th>9</th>\n",
       "      <td>19026993.59</td>\n",
       "    </tr>\n",
       "    <tr>\n",
       "      <th>17</th>\n",
       "      <td>16295386.29</td>\n",
       "    </tr>\n",
       "    <tr>\n",
       "      <th>8</th>\n",
       "      <td>13383831.65</td>\n",
       "    </tr>\n",
       "    <tr>\n",
       "      <th>18</th>\n",
       "      <td>12779308.84</td>\n",
       "    </tr>\n",
       "    <tr>\n",
       "      <th>19</th>\n",
       "      <td>9806245.01</td>\n",
       "    </tr>\n",
       "    <tr>\n",
       "      <th>20</th>\n",
       "      <td>7613535.74</td>\n",
       "    </tr>\n",
       "    <tr>\n",
       "      <th>7</th>\n",
       "      <td>6967455.09</td>\n",
       "    </tr>\n",
       "    <tr>\n",
       "      <th>21</th>\n",
       "      <td>6209800.61</td>\n",
       "    </tr>\n",
       "    <tr>\n",
       "      <th>22</th>\n",
       "      <td>4957258.84</td>\n",
       "    </tr>\n",
       "    <tr>\n",
       "      <th>23</th>\n",
       "      <td>3136813.26</td>\n",
       "    </tr>\n",
       "    <tr>\n",
       "      <th>6</th>\n",
       "      <td>2270795.77</td>\n",
       "    </tr>\n",
       "    <tr>\n",
       "      <th>0</th>\n",
       "      <td>1708684.33</td>\n",
       "    </tr>\n",
       "    <tr>\n",
       "      <th>1</th>\n",
       "      <td>903012.83</td>\n",
       "    </tr>\n",
       "    <tr>\n",
       "      <th>5</th>\n",
       "      <td>688482.23</td>\n",
       "    </tr>\n",
       "    <tr>\n",
       "      <th>2</th>\n",
       "      <td>541001.15</td>\n",
       "    </tr>\n",
       "    <tr>\n",
       "      <th>4</th>\n",
       "      <td>417288.40</td>\n",
       "    </tr>\n",
       "    <tr>\n",
       "      <th>3</th>\n",
       "      <td>401358.97</td>\n",
       "    </tr>\n",
       "  </tbody>\n",
       "</table>\n",
       "</div>"
      ],
      "text/plain": [
       "                        prices\n",
       "                           sum\n",
       "order_hour_of_day             \n",
       "10                 21401143.73\n",
       "11                 21263117.84\n",
       "14                 20980726.82\n",
       "15                 20778397.54\n",
       "13                 20735913.96\n",
       "12                 20394080.92\n",
       "16                 19779059.42\n",
       "9                  19026993.59\n",
       "17                 16295386.29\n",
       "8                  13383831.65\n",
       "18                 12779308.84\n",
       "19                  9806245.01\n",
       "20                  7613535.74\n",
       "7                   6967455.09\n",
       "21                  6209800.61\n",
       "22                  4957258.84\n",
       "23                  3136813.26\n",
       "6                   2270795.77\n",
       "0                   1708684.33\n",
       "1                    903012.83\n",
       "5                    688482.23\n",
       "2                    541001.15\n",
       "4                    417288.40\n",
       "3                    401358.97"
      ]
     },
     "execution_count": 6,
     "metadata": {},
     "output_type": "execute_result"
    }
   ],
   "source": [
    "# Checking the busiest hours by aggregating the sum of prices.\n",
    "busiest_hours_price = df_final_dataset.groupby('order_hour_of_day').agg({'prices' : ['sum']})\n",
    "busiest_hours_price = busiest_hours_price.sort_values(by=('prices', 'sum'), ascending=False)\n",
    "busiest_hours_price"
   ]
  },
  {
   "cell_type": "markdown",
   "id": "48180175",
   "metadata": {},
   "source": [
    "### 2.1. Creating a bar chart to show department orders at 10am"
   ]
  },
  {
   "cell_type": "code",
   "execution_count": 7,
   "id": "325d6678",
   "metadata": {},
   "outputs": [],
   "source": [
    "# Creating a bar chart to show what departments are most popular at 10am.\n",
    "busiest_hour_department = df_final_dataset[df_final_dataset['order_hour_of_day'] == 10]"
   ]
  },
  {
   "cell_type": "code",
   "execution_count": 8,
   "id": "fb7fea8a",
   "metadata": {},
   "outputs": [],
   "source": [
    "busiest_hour_department_count = busiest_hour_department['department_id'].value_counts(dropna = False)"
   ]
  },
  {
   "cell_type": "code",
   "execution_count": 9,
   "id": "11b0cc30",
   "metadata": {},
   "outputs": [
    {
     "data": {
      "image/png": "[encoded data removed]",
      "text/plain": [
       "<Figure size 640x480 with 1 Axes>"
      ]
     },
     "metadata": {},
     "output_type": "display_data"
    }
   ],
   "source": [
    "busiest_department = busiest_hour_department_count.plot.bar(legend = None)\n",
    "plt.title('Department Orders at 10am', fontweight = 'bold')\n",
    "plt.xlabel('Department')\n",
    "plt.ylabel('Number of Orders')\n",
    "plt.show()"
   ]
  },
  {
   "cell_type": "markdown",
   "id": "cc5f1922",
   "metadata": {},
   "source": [
    "### 2.2. Creating a bar chart to show department orders at 3am"
   ]
  },
  {
   "cell_type": "code",
   "execution_count": 10,
   "id": "27e35bb6",
   "metadata": {},
   "outputs": [],
   "source": [
    "quietest_hour_department = df_final_dataset[df_final_dataset['order_hour_of_day'] == 3]"
   ]
  },
  {
   "cell_type": "code",
   "execution_count": 11,
   "id": "8b80ad26",
   "metadata": {},
   "outputs": [],
   "source": [
    "quietest_hour_department_count = quietest_hour_department['department_id'].value_counts(dropna = False)"
   ]
  },
  {
   "cell_type": "code",
   "execution_count": 12,
   "id": "d416b61e",
   "metadata": {},
   "outputs": [
    {
     "data": {
      "image/png": "[encoded data removed]",
      "text/plain": [
       "<Figure size 640x480 with 1 Axes>"
      ]
     },
     "metadata": {},
     "output_type": "display_data"
    }
   ],
   "source": [
    "quietest_department = quietest_hour_department_count.plot.bar(legend = None)\n",
    "plt.title('Department Orders at 3am', fontweight = 'bold')\n",
    "plt.xlabel('Department')\n",
    "plt.ylabel('Number of Orders')\n",
    "plt.show()"
   ]
  },
  {
   "cell_type": "markdown",
   "id": "5fdbfa75",
   "metadata": {},
   "source": [
    "### 2.3. Exporting bar chart visualisations"
   ]
  },
  {
   "cell_type": "code",
   "execution_count": 13,
   "id": "acc32539",
   "metadata": {},
   "outputs": [],
   "source": [
    "# exporting visualisations\n",
    "busiest_department.figure.savefig(os.path.join(path, '04 Analysis', 'Visualisations', 'busiest_department_bar.png'))"
   ]
  },
  {
   "cell_type": "code",
   "execution_count": 14,
   "id": "debc0ba2",
   "metadata": {},
   "outputs": [],
   "source": [
    "quietest_department.figure.savefig(os.path.join(path, '04 Analysis', 'Visualisations', 'quietest_department_bar.png'))"
   ]
  },
  {
   "cell_type": "markdown",
   "id": "c348d991",
   "metadata": {},
   "source": [
    "## 3. Checking the most popular products in departments 4 and 16"
   ]
  },
  {
   "cell_type": "code",
   "execution_count": 15,
   "id": "b16e48b8",
   "metadata": {},
   "outputs": [],
   "source": [
    "# Checking the most popular products in departments 4 and 16\n",
    "department_produce = df_final_dataset[df_final_dataset['department_id'] == 4]"
   ]
  },
  {
   "cell_type": "code",
   "execution_count": 16,
   "id": "c3d36e6d",
   "metadata": {},
   "outputs": [],
   "source": [
    "popular_products_produce = department_produce['product_name'].value_counts(dropna = False)"
   ]
  },
  {
   "cell_type": "code",
   "execution_count": 17,
   "id": "73082ead",
   "metadata": {},
   "outputs": [
    {
     "data": {
      "text/plain": [
       "Banana                      472565\n",
       "Bag of Organic Bananas      379450\n",
       "Organic Strawberries        264683\n",
       "Organic Baby Spinach        241921\n",
       "Organic Hass Avocado        213584\n",
       "Organic Avocado             176815\n",
       "Large Lemon                 152657\n",
       "Strawberries                142951\n",
       "Limes                       140627\n",
       "Organic Raspberries         137057\n",
       "Organic Yellow Onion        113426\n",
       "Organic Garlic              109778\n",
       "Organic Zucchini            104823\n",
       "Organic Blueberries         100060\n",
       "Cucumber Kirby               97315\n",
       "Organic Fuji Apple           89632\n",
       "Organic Lemon                87746\n",
       "Apple Honeycrisp Organic     85020\n",
       "Organic Grape Tomatoes       84255\n",
       "Seedless Red Grapes          82689\n",
       "Name: product_name, dtype: int64"
      ]
     },
     "execution_count": 17,
     "metadata": {},
     "output_type": "execute_result"
    }
   ],
   "source": [
    "popular_products_produce.head(20)"
   ]
  },
  {
   "cell_type": "code",
   "execution_count": 18,
   "id": "613cc750",
   "metadata": {},
   "outputs": [],
   "source": [
    "department_dairy_eggs = df_final_dataset[df_final_dataset['department_id'] == 16]\n",
    "popular_products_dairy_eggs = department_dairy_eggs['product_name'].value_counts(dropna = False)"
   ]
  },
  {
   "cell_type": "code",
   "execution_count": 19,
   "id": "a7796b93",
   "metadata": {},
   "outputs": [
    {
     "data": {
      "text/plain": [
       "Organic Whole Milk                                                137905\n",
       "Organic Half & Half                                                76360\n",
       "Half & Half                                                        69217\n",
       "Organic Whole String Cheese                                        59676\n",
       "Organic Unsweetened Almond Milk                                    57895\n",
       "Unsweetened Almondmilk                                             49569\n",
       "Organic Reduced Fat 2% Milk                                        47839\n",
       "Grated Parmesan                                                    45238\n",
       "Large Alfresco Eggs                                                40376\n",
       "Organic Grade A Free Range Large Brown Eggs                        40045\n",
       "2% Reduced Fat Milk                                                37091\n",
       "Shredded Parmesan                                                  36365\n",
       "Unsalted Butter                                                    35667\n",
       "Organic Reduced Fat Milk                                           35663\n",
       "Whole Milk                                                         35633\n",
       "Unsweetened Original Almond Breeze Almond Milk                     34583\n",
       "Organic Sticks Low Moisture Part Skim Mozzarella String Cheese     34209\n",
       "Pure Irish Butter                                                  33908\n",
       "Feta Cheese Crumbles                                               32351\n",
       "Organic Large Brown Grade AA Cage Free Eggs                        32105\n",
       "Name: product_name, dtype: int64"
      ]
     },
     "execution_count": 19,
     "metadata": {},
     "output_type": "execute_result"
    }
   ],
   "source": [
    "popular_products_dairy_eggs.head(20)"
   ]
  },
  {
   "cell_type": "code",
   "execution_count": 20,
   "id": "e34244b6",
   "metadata": {},
   "outputs": [],
   "source": [
    "department_snacks = df_final_dataset[df_final_dataset['department_id'] == 19]\n",
    "popular_products_snacks = department_snacks['product_name'].value_counts(dropna = False)"
   ]
  },
  {
   "cell_type": "code",
   "execution_count": 21,
   "id": "9f4a2ce0",
   "metadata": {},
   "outputs": [
    {
     "data": {
      "text/plain": [
       "Lightly Salted Baked Snap Pea Crisps                   24950\n",
       "Original Veggie Straws                                 16850\n",
       "Sea Salt Pita Chips                                    16626\n",
       "Pretzel Crisps Original Deli Style Pretzel Crackers    15831\n",
       "Sea Salt & Vinegar Potato Chips                        14800\n",
       "Chocolate Chip Cookies                                 14148\n",
       "Organic Tortilla Chips                                 13776\n",
       "Baked Aged White Cheddar Rice and Corn Puffs           13691\n",
       "Organic Bunny Fruit Snacks Berry Patch                 13372\n",
       "Sea Salt Potato Chips                                  13086\n",
       "Organic Blue Corn Tortilla Chips                       13040\n",
       "Almonds & Sea Salt in Dark Chocolate                   12905\n",
       "100 Calorie  Per Bag Popcorn                           12822\n",
       "Organic Whole Cashews                                  12816\n",
       "Organic Summer Strawberry Bunny Fruit Snacks           12568\n",
       "Whole Almonds                                          12474\n",
       "Organic Thompson Seedless Raisins                      12430\n",
       "Crackers Cheddar Bunnies Snack Packs                   12315\n",
       "Trail Mix                                              12068\n",
       "Hint Of Sea Salt Almond Nut Thins                      11945\n",
       "Name: product_name, dtype: int64"
      ]
     },
     "execution_count": 21,
     "metadata": {},
     "output_type": "execute_result"
    }
   ],
   "source": [
    "popular_products_snacks.head(20)"
   ]
  },
  {
   "cell_type": "code",
   "execution_count": 22,
   "id": "212e6e54",
   "metadata": {},
   "outputs": [],
   "source": [
    "department_beverages = df_final_dataset[df_final_dataset['department_id'] == 7]\n",
    "popular_products_beverages = department_beverages['product_name'].value_counts(dropna = False)"
   ]
  },
  {
   "cell_type": "code",
   "execution_count": 23,
   "id": "f631e663",
   "metadata": {},
   "outputs": [
    {
     "data": {
      "text/plain": [
       "Sparkling Water Grapefruit                    75886\n",
       "Spring Water                                  56087\n",
       "Lime Sparkling Water                          46546\n",
       "Sparkling Natural Mineral Water               42934\n",
       "100% Raw Coconut Water                        37973\n",
       "Soda                                          35791\n",
       "Sparkling Lemon Water                         32788\n",
       "Italian Sparkling Mineral Water               30937\n",
       "Pure Sparkling Water                          28884\n",
       "Original Orange Juice                         24918\n",
       "Peach Pear Flavored Sparkling Water           21233\n",
       "Electrolyte Enhanced Water                    20735\n",
       "Organic Raw Kombucha Gingerade                20707\n",
       "Lemonade                                      19692\n",
       "Natural Spring Water                          19518\n",
       "Original No Pulp 100% Florida Orange Juice    19345\n",
       "Fridge Pack Cola                              18269\n",
       "Pure Coconut Water                            18183\n",
       "Sparkling Mineral Water                       18161\n",
       "Sparkling Water Berry                         17411\n",
       "Name: product_name, dtype: int64"
      ]
     },
     "execution_count": 23,
     "metadata": {},
     "output_type": "execute_result"
    }
   ],
   "source": [
    "popular_products_beverages.head(20)"
   ]
  },
  {
   "cell_type": "code",
   "execution_count": 24,
   "id": "e91f8a2f",
   "metadata": {},
   "outputs": [],
   "source": [
    "department_frozen = df_final_dataset[df_final_dataset['department_id'] == 1]\n",
    "popular_products_frozen = department_frozen['product_name'].value_counts(dropna = False)"
   ]
  },
  {
   "cell_type": "code",
   "execution_count": 25,
   "id": "72b8c435",
   "metadata": {},
   "outputs": [
    {
     "data": {
      "text/plain": [
       "Blueberries                          55946\n",
       "Organic Broccoli Florets             32887\n",
       "Organic Whole Strawberries           31445\n",
       "Frozen Organic Wild Blueberries      29905\n",
       "Pineapple Chunks                     24950\n",
       "Organic Frozen Peas                  20228\n",
       "Chicken & Maple Breakfast Sausage    18602\n",
       "Mango Chunks                         17699\n",
       "Macaroni & Cheese                    17420\n",
       "Frozen Broccoli Florets              15458\n",
       "Organic Cheese Frozen Pizza          14313\n",
       "Organic Brown Rice                   14276\n",
       "Berry Medley                         14227\n",
       "Gluten Free Whole Grain Bread        13715\n",
       "Chocolate Ice Cream                  13273\n",
       "Vanilla Ice Cream                    12117\n",
       "Organic Chopped Spinach              11925\n",
       "Green Peas                           11253\n",
       "Organic Chicken Strips               11110\n",
       "Organic Multigrain Waffles           10704\n",
       "Name: product_name, dtype: int64"
      ]
     },
     "execution_count": 25,
     "metadata": {},
     "output_type": "execute_result"
    }
   ],
   "source": [
    "popular_products_frozen.head(20)"
   ]
  },
  {
   "cell_type": "markdown",
   "id": "c1ad1699",
   "metadata": {},
   "source": [
    "## 4. Checking to see what products are found in mid-range/ low-range products"
   ]
  },
  {
   "cell_type": "code",
   "execution_count": 26,
   "id": "8557893a",
   "metadata": {},
   "outputs": [],
   "source": [
    "# Checking to see what products are found in mid-range/ low-range products? \n",
    "product_name_mid_range = df_final_dataset[df_final_dataset['price_range_loc'] == 'Mid-range product']"
   ]
  },
  {
   "cell_type": "code",
   "execution_count": 27,
   "id": "3faf8279",
   "metadata": {},
   "outputs": [],
   "source": [
    "popular_mid_range_products = product_name_mid_range['product_name'].value_counts(dropna = False)"
   ]
  },
  {
   "cell_type": "code",
   "execution_count": 28,
   "id": "90e3c955",
   "metadata": {},
   "outputs": [
    {
     "data": {
      "text/plain": [
       "Banana                                  472565\n",
       "Bag of Organic Bananas                  379450\n",
       "Organic Strawberries                    264683\n",
       "Organic Baby Spinach                    241921\n",
       "Organic Avocado                         176815\n",
       "Large Lemon                             152657\n",
       "Limes                                   140627\n",
       "Organic Whole Milk                      137905\n",
       "Organic Garlic                          109778\n",
       "Organic Zucchini                        104823\n",
       "Organic Blueberries                     100060\n",
       "Cucumber Kirby                           97315\n",
       "Apple Honeycrisp Organic                 85020\n",
       "Organic Grape Tomatoes                   84255\n",
       "Organic Cucumber                         80392\n",
       "Organic Baby Carrots                     76896\n",
       "Organic Large Extra Fancy Fuji Apple     75165\n",
       "Organic Gala Apples                      72846\n",
       "Carrots                                  72736\n",
       "Fresh Cauliflower                        71584\n",
       "Name: product_name, dtype: int64"
      ]
     },
     "execution_count": 28,
     "metadata": {},
     "output_type": "execute_result"
    }
   ],
   "source": [
    "popular_mid_range_products.head(20)"
   ]
  },
  {
   "cell_type": "code",
   "execution_count": 29,
   "id": "737d9108",
   "metadata": {},
   "outputs": [],
   "source": [
    "product_name_low_range = df_final_dataset[df_final_dataset['price_range_loc'] == 'Low-range product']\n",
    "popular_low_range_products = product_name_low_range['product_name'].value_counts(dropna = False)"
   ]
  },
  {
   "cell_type": "code",
   "execution_count": 30,
   "id": "e11b1eb0",
   "metadata": {},
   "outputs": [
    {
     "data": {
      "text/plain": [
       "Organic Hass Avocado                 213584\n",
       "Strawberries                         142951\n",
       "Organic Raspberries                  137057\n",
       "Organic Yellow Onion                 113426\n",
       "Organic Fuji Apple                    89632\n",
       "Organic Lemon                         87746\n",
       "Seedless Red Grapes                   82689\n",
       "Honeycrisp Apple                      79769\n",
       "Organic Half & Half                   76360\n",
       "Sparkling Water Grapefruit            75886\n",
       "Yellow Onions                         73167\n",
       "Organic Baby Arugula                  72829\n",
       "Organic Cilantro                      69524\n",
       "Organic Granny Smith Apple            58779\n",
       "Organic Unsweetened Almond Milk       57895\n",
       "Raspberries                           57640\n",
       "Spring Water                          56087\n",
       "Organic Peeled Whole Baby Carrots     55371\n",
       "Red Peppers                           55280\n",
       "Red Vine Tomato                       54409\n",
       "Name: product_name, dtype: int64"
      ]
     },
     "execution_count": 30,
     "metadata": {},
     "output_type": "execute_result"
    }
   ],
   "source": [
    "popular_low_range_products.head(20)\n"
   ]
  },
  {
   "cell_type": "markdown",
   "id": "d95f510d",
   "metadata": {},
   "source": [
    "## 5. Creating a bar chart to show customer loyalty"
   ]
  },
  {
   "cell_type": "code",
   "execution_count": 31,
   "id": "70cf4913",
   "metadata": {},
   "outputs": [
    {
     "data": {
      "text/plain": [
       "<function matplotlib.pyplot.show(close=None, block=None)>"
      ]
     },
     "execution_count": 31,
     "metadata": {},
     "output_type": "execute_result"
    },
    {
     "data": {
      "image/png": "[encoded data removed]",
      "text/plain": [
       "<Figure size 640x480 with 1 Axes>"
      ]
     },
     "metadata": {},
     "output_type": "display_data"
    }
   ],
   "source": [
    "barchart_customer_loyalty = df_final_dataset['loyalty_flag'].value_counts().plot.bar(color= ['crimson', 'maroon', 'coral'])\n",
    "plt.title('Customer Loyalty')\n",
    "plt.ylabel('Number of Orders')\n",
    "plt.show"
   ]
  },
  {
   "cell_type": "markdown",
   "id": "2d740da9",
   "metadata": {},
   "source": [
    "### 5.1. Exporting customer loyalty bar chart"
   ]
  },
  {
   "cell_type": "code",
   "execution_count": 32,
   "id": "80556907",
   "metadata": {},
   "outputs": [],
   "source": [
    "# Exporting Customer Loyalty Bar Chart\n",
    "barchart_customer_loyalty.figure.savefig(os.path.join(path, '04 Analysis', 'Visualisations', 'customer_loyalty_bar.png'))"
   ]
  },
  {
   "cell_type": "markdown",
   "id": "1ebf2018",
   "metadata": {},
   "source": [
    "## 6. Conducting some exploratory analysis of customer demographics to inform the targeted marketing campaigns"
   ]
  },
  {
   "cell_type": "markdown",
   "id": "4a719930",
   "metadata": {},
   "source": [
    "### 6.1. Creating a scatterplot exploring the relationship between age and family status"
   ]
  },
  {
   "cell_type": "code",
   "execution_count": 33,
   "id": "8b7fddd9",
   "metadata": {},
   "outputs": [],
   "source": [
    "# Creating a scatterplot to show the relationship between age and family status\n",
    "df_age_family_status = df_final_dataset[['age', 'family_status']]"
   ]
  },
  {
   "cell_type": "code",
   "execution_count": 34,
   "id": "ec148252",
   "metadata": {},
   "outputs": [
    {
     "data": {
      "image/png": "[encoded data removed]",
      "text/plain": [
       "<Figure size 640x480 with 1 Axes>"
      ]
     },
     "metadata": {},
     "output_type": "display_data"
    }
   ],
   "source": [
    "scatterplot_age_income = sns.scatterplot(x = 'age', y = 'family_status', data = df_age_family_status)"
   ]
  },
  {
   "cell_type": "code",
   "execution_count": null,
   "id": "ebd665d2",
   "metadata": {},
   "outputs": [],
   "source": [
    "plt.boxplot(df_age_family_status)"
   ]
  },
  {
   "cell_type": "markdown",
   "id": "5aa3500f",
   "metadata": {},
   "source": [
    "### 6.2. Exporting scatterplot visualisation as 'png'"
   ]
  },
  {
   "cell_type": "code",
   "execution_count": 35,
   "id": "06abbe28",
   "metadata": {},
   "outputs": [],
   "source": [
    "# Exporting scatterplot_age_income\n",
    "scatterplot_age_income.figure.savefig(os.path.join(path, '04 Analysis', 'Visualisations', 'scatterplot_age_income.png'))"
   ]
  },
  {
   "cell_type": "markdown",
   "id": "bce2296e",
   "metadata": {},
   "source": [
    "## 7. Creating and Exporting a bar chart to show the average prices by order_hour_of_day"
   ]
  },
  {
   "cell_type": "code",
   "execution_count": 36,
   "id": "8f596369",
   "metadata": {},
   "outputs": [
    {
     "data": {
      "image/png": "[encoded data removed]",
      "text/plain": [
       "<Figure size 640x480 with 1 Axes>"
      ]
     },
     "metadata": {},
     "output_type": "display_data"
    }
   ],
   "source": [
    "bar_order_hour_of_day_price_avg = df_final_dataset.groupby('order_hour_of_day').agg({'prices': ['mean']}).plot.bar(legend='')\n",
    "plt.xlabel('Order_Hour_of_Day')\n",
    "plt.ylabel('Prices')\n",
    "plt.title('Average Price by Order_Hour_of_Day')\n",
    "plt.ylim(7, 9)\n",
    "plt.show()"
   ]
  },
  {
   "cell_type": "code",
   "execution_count": 37,
   "id": "4b9c2e9e",
   "metadata": {},
   "outputs": [],
   "source": [
    "# Export bar chart\n",
    "bar_order_hour_of_day_price_avg.figure.savefig(os.path.join(path, '04 Analysis', 'Visualisations', 'bar_order_hour_of_day_price_avg.png'))\n"
   ]
  },
  {
   "cell_type": "markdown",
   "id": "54de3b9b",
   "metadata": {},
   "source": [
    "## 8. Creating and Exporting a bar chart showing the sum of prices by order_hour_of_day"
   ]
  },
  {
   "cell_type": "code",
   "execution_count": 38,
   "id": "6493e8a5",
   "metadata": {},
   "outputs": [
    {
     "data": {
      "text/html": [
       "<div>\n",
       "<style scoped>\n",
       "    .dataframe tbody tr th:only-of-type {\n",
       "        vertical-align: middle;\n",
       "    }\n",
       "\n",
       "    .dataframe tbody tr th {\n",
       "        vertical-align: top;\n",
       "    }\n",
       "\n",
       "    .dataframe thead tr th {\n",
       "        text-align: left;\n",
       "    }\n",
       "\n",
       "    .dataframe thead tr:last-of-type th {\n",
       "        text-align: right;\n",
       "    }\n",
       "</style>\n",
       "<table border=\"1\" class=\"dataframe\">\n",
       "  <thead>\n",
       "    <tr>\n",
       "      <th></th>\n",
       "      <th>prices</th>\n",
       "    </tr>\n",
       "    <tr>\n",
       "      <th></th>\n",
       "      <th>sum</th>\n",
       "    </tr>\n",
       "    <tr>\n",
       "      <th>order_hour_of_day</th>\n",
       "      <th></th>\n",
       "    </tr>\n",
       "  </thead>\n",
       "  <tbody>\n",
       "    <tr>\n",
       "      <th>0</th>\n",
       "      <td>1708684.33</td>\n",
       "    </tr>\n",
       "    <tr>\n",
       "      <th>1</th>\n",
       "      <td>903012.83</td>\n",
       "    </tr>\n",
       "    <tr>\n",
       "      <th>2</th>\n",
       "      <td>541001.15</td>\n",
       "    </tr>\n",
       "    <tr>\n",
       "      <th>3</th>\n",
       "      <td>401358.97</td>\n",
       "    </tr>\n",
       "    <tr>\n",
       "      <th>4</th>\n",
       "      <td>417288.40</td>\n",
       "    </tr>\n",
       "    <tr>\n",
       "      <th>5</th>\n",
       "      <td>688482.23</td>\n",
       "    </tr>\n",
       "    <tr>\n",
       "      <th>6</th>\n",
       "      <td>2270795.77</td>\n",
       "    </tr>\n",
       "    <tr>\n",
       "      <th>7</th>\n",
       "      <td>6967455.09</td>\n",
       "    </tr>\n",
       "    <tr>\n",
       "      <th>8</th>\n",
       "      <td>13383831.65</td>\n",
       "    </tr>\n",
       "    <tr>\n",
       "      <th>9</th>\n",
       "      <td>19026993.59</td>\n",
       "    </tr>\n",
       "    <tr>\n",
       "      <th>10</th>\n",
       "      <td>21401143.73</td>\n",
       "    </tr>\n",
       "    <tr>\n",
       "      <th>11</th>\n",
       "      <td>21263117.84</td>\n",
       "    </tr>\n",
       "    <tr>\n",
       "      <th>12</th>\n",
       "      <td>20394080.92</td>\n",
       "    </tr>\n",
       "    <tr>\n",
       "      <th>13</th>\n",
       "      <td>20735913.96</td>\n",
       "    </tr>\n",
       "    <tr>\n",
       "      <th>14</th>\n",
       "      <td>20980726.82</td>\n",
       "    </tr>\n",
       "    <tr>\n",
       "      <th>15</th>\n",
       "      <td>20778397.54</td>\n",
       "    </tr>\n",
       "    <tr>\n",
       "      <th>16</th>\n",
       "      <td>19779059.42</td>\n",
       "    </tr>\n",
       "    <tr>\n",
       "      <th>17</th>\n",
       "      <td>16295386.29</td>\n",
       "    </tr>\n",
       "    <tr>\n",
       "      <th>18</th>\n",
       "      <td>12779308.84</td>\n",
       "    </tr>\n",
       "    <tr>\n",
       "      <th>19</th>\n",
       "      <td>9806245.01</td>\n",
       "    </tr>\n",
       "    <tr>\n",
       "      <th>20</th>\n",
       "      <td>7613535.74</td>\n",
       "    </tr>\n",
       "    <tr>\n",
       "      <th>21</th>\n",
       "      <td>6209800.61</td>\n",
       "    </tr>\n",
       "    <tr>\n",
       "      <th>22</th>\n",
       "      <td>4957258.84</td>\n",
       "    </tr>\n",
       "    <tr>\n",
       "      <th>23</th>\n",
       "      <td>3136813.26</td>\n",
       "    </tr>\n",
       "  </tbody>\n",
       "</table>\n",
       "</div>"
      ],
      "text/plain": [
       "                        prices\n",
       "                           sum\n",
       "order_hour_of_day             \n",
       "0                   1708684.33\n",
       "1                    903012.83\n",
       "2                    541001.15\n",
       "3                    401358.97\n",
       "4                    417288.40\n",
       "5                    688482.23\n",
       "6                   2270795.77\n",
       "7                   6967455.09\n",
       "8                  13383831.65\n",
       "9                  19026993.59\n",
       "10                 21401143.73\n",
       "11                 21263117.84\n",
       "12                 20394080.92\n",
       "13                 20735913.96\n",
       "14                 20980726.82\n",
       "15                 20778397.54\n",
       "16                 19779059.42\n",
       "17                 16295386.29\n",
       "18                 12779308.84\n",
       "19                  9806245.01\n",
       "20                  7613535.74\n",
       "21                  6209800.61\n",
       "22                  4957258.84\n",
       "23                  3136813.26"
      ]
     },
     "execution_count": 38,
     "metadata": {},
     "output_type": "execute_result"
    }
   ],
   "source": [
    "df_final_dataset.groupby('order_hour_of_day').agg({'prices': ['sum']})"
   ]
  },
  {
   "cell_type": "code",
   "execution_count": 39,
   "id": "f8a93b67",
   "metadata": {
    "scrolled": true
   },
   "outputs": [
    {
     "data": {
      "text/plain": [
       "Text(0, 0.5, 'prices')"
      ]
     },
     "execution_count": 39,
     "metadata": {},
     "output_type": "execute_result"
    },
    {
     "data": {
      "image/png": "[encoded data removed]",
      "text/plain": [
       "<Figure size 640x480 with 1 Axes>"
      ]
     },
     "metadata": {},
     "output_type": "display_data"
    }
   ],
   "source": [
    "bar_order_hour_of_day_price_sum = df_final_dataset.groupby('order_hour_of_day').agg({'prices': ['sum']}).plot.bar(legend='')\n",
    "plt.xlabel('order_hour_of_day')\n",
    "plt.ylabel('prices')"
   ]
  },
  {
   "cell_type": "code",
   "execution_count": 40,
   "id": "5aebc478",
   "metadata": {},
   "outputs": [],
   "source": [
    "# Export bar chart\n",
    "bar_order_hour_of_day_price_sum.figure.savefig(os.path.join(path, '04 Analysis', 'Visualisations', 'bar_order_hour_of_day_price_sum.png'))\n"
   ]
  },
  {
   "cell_type": "markdown",
   "id": "a6aa25df",
   "metadata": {},
   "source": [
    "## 9. Checking the basic statistics of prices"
   ]
  },
  {
   "cell_type": "code",
   "execution_count": 41,
   "id": "3475cd2c",
   "metadata": {},
   "outputs": [
    {
     "data": {
      "text/plain": [
       "count    3.240486e+07\n",
       "mean     7.790180e+00\n",
       "std      4.242125e+00\n",
       "min      1.000000e+00\n",
       "25%      4.200000e+00\n",
       "50%      7.400000e+00\n",
       "75%      1.130000e+01\n",
       "max      2.500000e+01\n",
       "Name: prices, dtype: float64"
      ]
     },
     "execution_count": 41,
     "metadata": {},
     "output_type": "execute_result"
    }
   ],
   "source": [
    "df_final_dataset['prices'].describe()"
   ]
  },
  {
   "cell_type": "markdown",
   "id": "4c820b33",
   "metadata": {},
   "source": [
    "## 10. Checking the products in the bulk and missing departments"
   ]
  },
  {
   "cell_type": "code",
   "execution_count": 42,
   "id": "dcce644d",
   "metadata": {},
   "outputs": [
    {
     "data": {
      "text/plain": [
       "Dried Mango                          10150\n",
       "Organic Rolled Oats                   6380\n",
       "Organic Black Mission Figs            2793\n",
       "Apricots                              2610\n",
       "Rolled Oats                           1364\n",
       "Organic Quick Rolled Oats             1344\n",
       "Pesto Sauce                           1266\n",
       "Organic Royal Rainbow Quinoa          1249\n",
       "Organic Short Brown Sprouted Rice      826\n",
       "Organic Turkish Apricots               780\n",
       "Israeli Couscous                       764\n",
       "Vegetable Chips                        711\n",
       "Whole Medjool Dates                    550\n",
       "Organic Red Kidney Beans               502\n",
       "Organic Mung Beans                     499\n",
       "Organic Pearled Barley                 403\n",
       "Organic Split Green Peas               346\n",
       "Organic Hemp Plus Granola              301\n",
       "Super Nutty Granola                    204\n",
       "Organic Brown Jasmine Rice             172\n",
       "Name: product_name, dtype: int64"
      ]
     },
     "execution_count": 42,
     "metadata": {},
     "output_type": "execute_result"
    }
   ],
   "source": [
    "department_bulk = df_final_dataset[df_final_dataset['department_id'] == 10]\n",
    "department_bulk_freq = department_bulk['product_name'].value_counts(dropna = False)\n",
    "department_bulk_freq.head(20)"
   ]
  },
  {
   "cell_type": "code",
   "execution_count": 43,
   "id": "04fe9b78",
   "metadata": {},
   "outputs": [
    {
     "data": {
      "text/plain": [
       "Organic Riced Cauliflower                                                 8366\n",
       "Peanut Butter Ice Cream Cup                                               1933\n",
       "Organic Mango Yogurt                                                      1675\n",
       "Organic Celery Bunch                                                      1645\n",
       "Natural Lemon Flavored Sparkling Water                                    1455\n",
       "Organic Whole Milk Washington Black Cherry Yogurt                         1391\n",
       "Cookie Dough Ice Cream Chocolate Chip                                     1311\n",
       "Soy & Dairy Free Plain Unsweetened Almond Milk Yogurt                     1005\n",
       "Organic Nondairy Strawberry Cashew Yogurt                                  914\n",
       "Cayenne Cleanse Kombucha                                                   904\n",
       "Uncured Beef Hot Dog                                                       873\n",
       "Organic Plain Unsweetened Nondairy Cashew Yogurt                           868\n",
       "Organic Ground Chicken                                                     802\n",
       "Organic Cashew Nondairy Vanilla Yogurt                                     781\n",
       "Strained Non-Fat Strawberry Icelandic Style Skyr Yogurt                    750\n",
       "Organic Chocolate Chip Cookie Dough                                        737\n",
       "S'mores Ice Cream                                                          686\n",
       "Lemon Bag                                                                  652\n",
       "Oatneal Cookie Ice Cream                                                   650\n",
       "Organic Cashew Nondairy Blueberry Yogurt                                   620\n",
       "Protein Bar Maple Sea Salt                                                 609\n",
       "Fresh Organic Carrots                                                      587\n",
       "Cilantro Bunch                                                             540\n",
       "Organic Uncured Beef Hot Dog                                               518\n",
       "Icelandic Style Cream-Skyr 4% Milkfat Strained Whole-Milk Yogurt Mango     499\n",
       "Sea-Salt Grain-Free Tortilla Chips                                         491\n",
       "Protein Bar Mint Chocolate                                                 448\n",
       "Mexican Chocolate Yogurt                                                   447\n",
       "Organic Nondairy Lemon Cashew Yogurt                                       440\n",
       "Whole Milk Yogurt Organic Indonesian Vanilla Bean                          430\n",
       "Name: product_name, dtype: int64"
      ]
     },
     "execution_count": 43,
     "metadata": {},
     "output_type": "execute_result"
    }
   ],
   "source": [
    "department_missing = df_final_dataset[df_final_dataset['department_id'] == 21]\n",
    "department_missing_freq = department_missing['product_name'].value_counts(dropna = False)\n",
    "department_missing_freq.head(30)"
   ]
  },
  {
   "cell_type": "code",
   "execution_count": null,
   "id": "f6efbb0f",
   "metadata": {},
   "outputs": [],
   "source": []
  }
 ],
 "metadata": {
  "kernelspec": {
   "display_name": "Python 3 (ipykernel)",
   "language": "python",
   "name": "python3"
  },
  "language_info": {
   "codemirror_mode": {
    "name": "ipython",
    "version": 3
   },
   "file_extension": ".py",
   "mimetype": "text/x-python",
   "name": "python",
   "nbconvert_exporter": "python",
   "pygments_lexer": "ipython3",
   "version": "3.10.9"
  }
 },
 "nbformat": 4,
 "nbformat_minor": 5
}
