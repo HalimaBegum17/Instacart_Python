{
 "cells": [
  {
   "cell_type": "markdown",
   "id": "bf43ff70",
   "metadata": {},
   "source": [
    "## Contents\n",
    "\n",
    "1. [Importing Libraries and Dataframes](#1.-Importing-Libraries-and-Dataframes)   \n",
    "2. [Addressing PII data](#2.-Adressing-PII-data)   \n",
    "3. [Comparing customer behaviour in different geographic regions](#3.-Comparing-customer-behaviour-in-different-geographic-regions)    \n",
    "    3.1 [Creating a regional segmentation of the data](#3.1-Creating-a-regional-segmentation-of-the-data)    \n",
    "    3.2 [Checking differences in spending habits across U.S regions](#3.2-Checking-differences-in-spending-habits-across-U-S-regions)     \n",
    "4. [Creating an exclusion flag for low-activity customers](#4.-Creating-an-exclusion-flag-for-low-activity-customers)    \n",
    "    4.1 [Exporting the active-users dataframe](#4.1-Exporting-the-active-users-dataframe)    \n",
    "5. [Creating a profiling variable based on age](#5.-Creating-a-profiling-variable-based-on-age)     \n",
    "    5.1 [Creating a pie chart to show the distribution of ages](#5.1-Creating-a-pie-chart-to-show-the-distribution-of-ages)   \n",
    "    5.2 [Aggregating the max, mean, and min variables of the age profile for usage frequency and expenditure](#5.2-Aggregating-the-max,-mean,-and-min-variables-of-the-age-profile-for-usage-frequency-and-expenditure)   \n",
    "    5.3 [Comparing age profile by region](#5.3-Comparing-age-profile-by-region)    \n",
    "    5.4 [Comparing age region by loyalty](#5.4-Comparing-age-region-by-loyalty)     \n",
    "    5.5 [Creating a data dictionary for department_id](#5.5-Creating-a-data-dictionary-for-department-id)    \n",
    "    5.6 [Comparing age profile by department_id](#5.6-Comparing-age-profile-by-department-id)    \n",
    "6. [Creating a profiling variable based on Income](#6.-Creating-a-profiling-variable-based-on-Income)    \n",
    "    6.1 [Creating a pie chart to show the distribution of Income](#6.1-Creating-a-pie-chart-to-show-the-distribution-of-Income) \n",
    "    6.2 [Aggregating the max, mean, and min variables of the Income profile for usage frequency and expenditure](#6.2-Aggregating-the-max,-mean,-and-min-variables-of-the-Income-profile-for-usage-frequency-and-expenditure)   \n",
    "    6.3 [Comparing Income profile by region](#6.3-Comparing-Income-profile-by-region)    \n",
    "    6.4 [Comparing Income profile by department_id](#6.4-Comparing-Income-profile-by-department-id)     \n",
    "7. [Creating a profiling variable based on number of dependants](#7.-Creating-a-profiling-variable-based-on-number-of-dependants)    \n",
    "    7.1 [Creating visualisations to show the distribution of number of dependants](#7.1-Creating-visualisations-to-show-the-distribution-of-number-of-dependants)   \n",
    "    7.2 [Aggregating the max, mean, and min variables of the dependants profile for usage frequency and expenditure](#7.2-Aggregating-the-max,-mean-and-min-variables-of-the-dependants-profile-for-usage-frequency-and-expenditure)   \n",
    "    7.3 [Comparing dependants profile by region](#7.3-Comparing-dependants-profile-by-region)   \n",
    "    7.4 [Comparing dependants by department_id](#7.4-Comparing-dependants-by-department-id)   \n",
    "8. [Checking order frequencies by Region](#8.-Checking-order-frequencies-by-Region)    \n",
    "    8.1 [Creating a bar chart to show the number of orders by region](#8.1-Creating-a-bar-chart-to-show-the-number-of-orders-by-region)   \n",
    "9. [Creating a bar chart to show the busiest department by orders at 11am](#9.-Creating-a-bar-chart-to-show-the-busiest-department-by-orders-at-11am)   \n",
    "10. [Creating a pie chart to show the price_range_loc on spending](#10.-Creating-a-pie-chart-to-show-the-price-range-loc-on-spending)   \n",
    "11. [Exporting Visualisations](#11.-Exporting-Visualisations)   "
   ]
  },
  {
   "cell_type": "markdown",
   "id": "24367db0",
   "metadata": {},
   "source": [
    "## 1. Importing Libraries and Dataframes"
   ]
  },
  {
   "cell_type": "code",
   "execution_count": 1,
   "id": "75fd5f55",
   "metadata": {},
   "outputs": [],
   "source": [
    "# Importing Libraries and Dataframe\n",
    "\n",
    "import pandas as pd\n",
    "import numpy as np\n",
    "import os\n",
    "import matplotlib.pyplot as plt\n",
    "import seaborn as sns\n",
    "import scipy"
   ]
  },
  {
   "cell_type": "code",
   "execution_count": 2,
   "id": "5258f3df",
   "metadata": {},
   "outputs": [],
   "source": [
    "# Importing df_combined\n",
    "path = r'C:\\Users\\User 1\\Documents\\Instacart Basket Analysis 04-2023'"
   ]
  },
  {
   "cell_type": "code",
   "execution_count": 3,
   "id": "0ba53ed0",
   "metadata": {},
   "outputs": [],
   "source": [
    "df_combined = pd.read_pickle(os.path.join(path, '02 Data', 'Prepared Data', 'df_combined.pkl'))"
   ]
  },
  {
   "cell_type": "code",
   "execution_count": 4,
   "id": "8cbc68a7",
   "metadata": {},
   "outputs": [
    {
     "data": {
      "text/html": [
       "<div>\n",
       "<style scoped>\n",
       "    .dataframe tbody tr th:only-of-type {\n",
       "        vertical-align: middle;\n",
       "    }\n",
       "\n",
       "    .dataframe tbody tr th {\n",
       "        vertical-align: top;\n",
       "    }\n",
       "\n",
       "    .dataframe thead th {\n",
       "        text-align: right;\n",
       "    }\n",
       "</style>\n",
       "<table border=\"1\" class=\"dataframe\">\n",
       "  <thead>\n",
       "    <tr style=\"text-align: right;\">\n",
       "      <th></th>\n",
       "      <th>user_id</th>\n",
       "      <th>gender</th>\n",
       "      <th>state</th>\n",
       "      <th>age</th>\n",
       "      <th>date_joined</th>\n",
       "      <th>number_of_dependants</th>\n",
       "      <th>family_status</th>\n",
       "      <th>income</th>\n",
       "      <th>full_name</th>\n",
       "      <th>order_id</th>\n",
       "      <th>...</th>\n",
       "      <th>price_range_loc</th>\n",
       "      <th>busiest_day</th>\n",
       "      <th>Busiest_days</th>\n",
       "      <th>busiest_period_of_day</th>\n",
       "      <th>max_order</th>\n",
       "      <th>loyalty_flag</th>\n",
       "      <th>avg_price</th>\n",
       "      <th>spending_flag</th>\n",
       "      <th>median_frequency</th>\n",
       "      <th>order_frequency_flag</th>\n",
       "    </tr>\n",
       "  </thead>\n",
       "  <tbody>\n",
       "    <tr>\n",
       "      <th>0</th>\n",
       "      <td>26711</td>\n",
       "      <td>Female</td>\n",
       "      <td>Missouri</td>\n",
       "      <td>48</td>\n",
       "      <td>1/1/2017</td>\n",
       "      <td>3</td>\n",
       "      <td>married</td>\n",
       "      <td>165665</td>\n",
       "      <td>Deborah Esquivel</td>\n",
       "      <td>2543867</td>\n",
       "      <td>...</td>\n",
       "      <td>Mid-range product</td>\n",
       "      <td>Regularly busy</td>\n",
       "      <td>Busiest days</td>\n",
       "      <td>Most orders</td>\n",
       "      <td>8</td>\n",
       "      <td>New customer</td>\n",
       "      <td>7.988889</td>\n",
       "      <td>Low spender</td>\n",
       "      <td>19.0</td>\n",
       "      <td>Regular customer</td>\n",
       "    </tr>\n",
       "    <tr>\n",
       "      <th>1</th>\n",
       "      <td>26711</td>\n",
       "      <td>Female</td>\n",
       "      <td>Missouri</td>\n",
       "      <td>48</td>\n",
       "      <td>1/1/2017</td>\n",
       "      <td>3</td>\n",
       "      <td>married</td>\n",
       "      <td>165665</td>\n",
       "      <td>Deborah Esquivel</td>\n",
       "      <td>1285508</td>\n",
       "      <td>...</td>\n",
       "      <td>Mid-range product</td>\n",
       "      <td>Regularly busy</td>\n",
       "      <td>Regular days</td>\n",
       "      <td>Most orders</td>\n",
       "      <td>8</td>\n",
       "      <td>New customer</td>\n",
       "      <td>7.988889</td>\n",
       "      <td>Low spender</td>\n",
       "      <td>19.0</td>\n",
       "      <td>Regular customer</td>\n",
       "    </tr>\n",
       "    <tr>\n",
       "      <th>2</th>\n",
       "      <td>26711</td>\n",
       "      <td>Female</td>\n",
       "      <td>Missouri</td>\n",
       "      <td>48</td>\n",
       "      <td>1/1/2017</td>\n",
       "      <td>3</td>\n",
       "      <td>married</td>\n",
       "      <td>165665</td>\n",
       "      <td>Deborah Esquivel</td>\n",
       "      <td>2578584</td>\n",
       "      <td>...</td>\n",
       "      <td>Mid-range product</td>\n",
       "      <td>Regularly busy</td>\n",
       "      <td>Busiest days</td>\n",
       "      <td>Most orders</td>\n",
       "      <td>8</td>\n",
       "      <td>New customer</td>\n",
       "      <td>7.988889</td>\n",
       "      <td>Low spender</td>\n",
       "      <td>19.0</td>\n",
       "      <td>Regular customer</td>\n",
       "    </tr>\n",
       "    <tr>\n",
       "      <th>3</th>\n",
       "      <td>26711</td>\n",
       "      <td>Female</td>\n",
       "      <td>Missouri</td>\n",
       "      <td>48</td>\n",
       "      <td>1/1/2017</td>\n",
       "      <td>3</td>\n",
       "      <td>married</td>\n",
       "      <td>165665</td>\n",
       "      <td>Deborah Esquivel</td>\n",
       "      <td>423547</td>\n",
       "      <td>...</td>\n",
       "      <td>Mid-range product</td>\n",
       "      <td>Regularly busy</td>\n",
       "      <td>Regular days</td>\n",
       "      <td>Most orders</td>\n",
       "      <td>8</td>\n",
       "      <td>New customer</td>\n",
       "      <td>7.988889</td>\n",
       "      <td>Low spender</td>\n",
       "      <td>19.0</td>\n",
       "      <td>Regular customer</td>\n",
       "    </tr>\n",
       "    <tr>\n",
       "      <th>4</th>\n",
       "      <td>26711</td>\n",
       "      <td>Female</td>\n",
       "      <td>Missouri</td>\n",
       "      <td>48</td>\n",
       "      <td>1/1/2017</td>\n",
       "      <td>3</td>\n",
       "      <td>married</td>\n",
       "      <td>165665</td>\n",
       "      <td>Deborah Esquivel</td>\n",
       "      <td>2524893</td>\n",
       "      <td>...</td>\n",
       "      <td>Mid-range product</td>\n",
       "      <td>Regularly busy</td>\n",
       "      <td>Slowest days</td>\n",
       "      <td>Most orders</td>\n",
       "      <td>8</td>\n",
       "      <td>New customer</td>\n",
       "      <td>7.988889</td>\n",
       "      <td>Low spender</td>\n",
       "      <td>19.0</td>\n",
       "      <td>Regular customer</td>\n",
       "    </tr>\n",
       "  </tbody>\n",
       "</table>\n",
       "<p>5 rows × 32 columns</p>\n",
       "</div>"
      ],
      "text/plain": [
       "   user_id  gender     state  age date_joined  number_of_dependants  \\\n",
       "0    26711  Female  Missouri   48    1/1/2017                     3   \n",
       "1    26711  Female  Missouri   48    1/1/2017                     3   \n",
       "2    26711  Female  Missouri   48    1/1/2017                     3   \n",
       "3    26711  Female  Missouri   48    1/1/2017                     3   \n",
       "4    26711  Female  Missouri   48    1/1/2017                     3   \n",
       "\n",
       "  family_status  income         full_name  order_id  ...    price_range_loc  \\\n",
       "0       married  165665  Deborah Esquivel   2543867  ...  Mid-range product   \n",
       "1       married  165665  Deborah Esquivel   1285508  ...  Mid-range product   \n",
       "2       married  165665  Deborah Esquivel   2578584  ...  Mid-range product   \n",
       "3       married  165665  Deborah Esquivel    423547  ...  Mid-range product   \n",
       "4       married  165665  Deborah Esquivel   2524893  ...  Mid-range product   \n",
       "\n",
       "      busiest_day  Busiest_days  busiest_period_of_day  max_order  \\\n",
       "0  Regularly busy  Busiest days            Most orders          8   \n",
       "1  Regularly busy  Regular days            Most orders          8   \n",
       "2  Regularly busy  Busiest days            Most orders          8   \n",
       "3  Regularly busy  Regular days            Most orders          8   \n",
       "4  Regularly busy  Slowest days            Most orders          8   \n",
       "\n",
       "   loyalty_flag  avg_price spending_flag  median_frequency  \\\n",
       "0  New customer   7.988889   Low spender              19.0   \n",
       "1  New customer   7.988889   Low spender              19.0   \n",
       "2  New customer   7.988889   Low spender              19.0   \n",
       "3  New customer   7.988889   Low spender              19.0   \n",
       "4  New customer   7.988889   Low spender              19.0   \n",
       "\n",
       "   order_frequency_flag  \n",
       "0      Regular customer  \n",
       "1      Regular customer  \n",
       "2      Regular customer  \n",
       "3      Regular customer  \n",
       "4      Regular customer  \n",
       "\n",
       "[5 rows x 32 columns]"
      ]
     },
     "execution_count": 4,
     "metadata": {},
     "output_type": "execute_result"
    }
   ],
   "source": [
    "df_combined.head()"
   ]
  },
  {
   "cell_type": "code",
   "execution_count": 5,
   "id": "79c194e5",
   "metadata": {},
   "outputs": [
    {
     "data": {
      "text/plain": [
       "(32404859, 32)"
      ]
     },
     "execution_count": 5,
     "metadata": {},
     "output_type": "execute_result"
    }
   ],
   "source": [
    "df_combined.shape"
   ]
  },
  {
   "cell_type": "markdown",
   "id": "38c1d62e",
   "metadata": {},
   "source": [
    "## 2. Addressing PII data"
   ]
  },
  {
   "cell_type": "code",
   "execution_count": 6,
   "id": "4fe01fe1",
   "metadata": {},
   "outputs": [],
   "source": [
    "df_combined = df_combined.drop(columns = ['full_name'])"
   ]
  },
  {
   "cell_type": "code",
   "execution_count": 7,
   "id": "3ccfa17f",
   "metadata": {},
   "outputs": [
    {
     "data": {
      "text/html": [
       "<div>\n",
       "<style scoped>\n",
       "    .dataframe tbody tr th:only-of-type {\n",
       "        vertical-align: middle;\n",
       "    }\n",
       "\n",
       "    .dataframe tbody tr th {\n",
       "        vertical-align: top;\n",
       "    }\n",
       "\n",
       "    .dataframe thead th {\n",
       "        text-align: right;\n",
       "    }\n",
       "</style>\n",
       "<table border=\"1\" class=\"dataframe\">\n",
       "  <thead>\n",
       "    <tr style=\"text-align: right;\">\n",
       "      <th></th>\n",
       "      <th>user_id</th>\n",
       "      <th>gender</th>\n",
       "      <th>state</th>\n",
       "      <th>age</th>\n",
       "      <th>date_joined</th>\n",
       "      <th>number_of_dependants</th>\n",
       "      <th>family_status</th>\n",
       "      <th>income</th>\n",
       "      <th>order_id</th>\n",
       "      <th>order_number</th>\n",
       "      <th>...</th>\n",
       "      <th>price_range_loc</th>\n",
       "      <th>busiest_day</th>\n",
       "      <th>Busiest_days</th>\n",
       "      <th>busiest_period_of_day</th>\n",
       "      <th>max_order</th>\n",
       "      <th>loyalty_flag</th>\n",
       "      <th>avg_price</th>\n",
       "      <th>spending_flag</th>\n",
       "      <th>median_frequency</th>\n",
       "      <th>order_frequency_flag</th>\n",
       "    </tr>\n",
       "  </thead>\n",
       "  <tbody>\n",
       "    <tr>\n",
       "      <th>0</th>\n",
       "      <td>26711</td>\n",
       "      <td>Female</td>\n",
       "      <td>Missouri</td>\n",
       "      <td>48</td>\n",
       "      <td>1/1/2017</td>\n",
       "      <td>3</td>\n",
       "      <td>married</td>\n",
       "      <td>165665</td>\n",
       "      <td>2543867</td>\n",
       "      <td>5</td>\n",
       "      <td>...</td>\n",
       "      <td>Mid-range product</td>\n",
       "      <td>Regularly busy</td>\n",
       "      <td>Busiest days</td>\n",
       "      <td>Most orders</td>\n",
       "      <td>8</td>\n",
       "      <td>New customer</td>\n",
       "      <td>7.988889</td>\n",
       "      <td>Low spender</td>\n",
       "      <td>19.0</td>\n",
       "      <td>Regular customer</td>\n",
       "    </tr>\n",
       "    <tr>\n",
       "      <th>1</th>\n",
       "      <td>26711</td>\n",
       "      <td>Female</td>\n",
       "      <td>Missouri</td>\n",
       "      <td>48</td>\n",
       "      <td>1/1/2017</td>\n",
       "      <td>3</td>\n",
       "      <td>married</td>\n",
       "      <td>165665</td>\n",
       "      <td>1285508</td>\n",
       "      <td>7</td>\n",
       "      <td>...</td>\n",
       "      <td>Mid-range product</td>\n",
       "      <td>Regularly busy</td>\n",
       "      <td>Regular days</td>\n",
       "      <td>Most orders</td>\n",
       "      <td>8</td>\n",
       "      <td>New customer</td>\n",
       "      <td>7.988889</td>\n",
       "      <td>Low spender</td>\n",
       "      <td>19.0</td>\n",
       "      <td>Regular customer</td>\n",
       "    </tr>\n",
       "    <tr>\n",
       "      <th>2</th>\n",
       "      <td>26711</td>\n",
       "      <td>Female</td>\n",
       "      <td>Missouri</td>\n",
       "      <td>48</td>\n",
       "      <td>1/1/2017</td>\n",
       "      <td>3</td>\n",
       "      <td>married</td>\n",
       "      <td>165665</td>\n",
       "      <td>2578584</td>\n",
       "      <td>8</td>\n",
       "      <td>...</td>\n",
       "      <td>Mid-range product</td>\n",
       "      <td>Regularly busy</td>\n",
       "      <td>Busiest days</td>\n",
       "      <td>Most orders</td>\n",
       "      <td>8</td>\n",
       "      <td>New customer</td>\n",
       "      <td>7.988889</td>\n",
       "      <td>Low spender</td>\n",
       "      <td>19.0</td>\n",
       "      <td>Regular customer</td>\n",
       "    </tr>\n",
       "    <tr>\n",
       "      <th>3</th>\n",
       "      <td>26711</td>\n",
       "      <td>Female</td>\n",
       "      <td>Missouri</td>\n",
       "      <td>48</td>\n",
       "      <td>1/1/2017</td>\n",
       "      <td>3</td>\n",
       "      <td>married</td>\n",
       "      <td>165665</td>\n",
       "      <td>423547</td>\n",
       "      <td>2</td>\n",
       "      <td>...</td>\n",
       "      <td>Mid-range product</td>\n",
       "      <td>Regularly busy</td>\n",
       "      <td>Regular days</td>\n",
       "      <td>Most orders</td>\n",
       "      <td>8</td>\n",
       "      <td>New customer</td>\n",
       "      <td>7.988889</td>\n",
       "      <td>Low spender</td>\n",
       "      <td>19.0</td>\n",
       "      <td>Regular customer</td>\n",
       "    </tr>\n",
       "    <tr>\n",
       "      <th>4</th>\n",
       "      <td>26711</td>\n",
       "      <td>Female</td>\n",
       "      <td>Missouri</td>\n",
       "      <td>48</td>\n",
       "      <td>1/1/2017</td>\n",
       "      <td>3</td>\n",
       "      <td>married</td>\n",
       "      <td>165665</td>\n",
       "      <td>2524893</td>\n",
       "      <td>3</td>\n",
       "      <td>...</td>\n",
       "      <td>Mid-range product</td>\n",
       "      <td>Regularly busy</td>\n",
       "      <td>Slowest days</td>\n",
       "      <td>Most orders</td>\n",
       "      <td>8</td>\n",
       "      <td>New customer</td>\n",
       "      <td>7.988889</td>\n",
       "      <td>Low spender</td>\n",
       "      <td>19.0</td>\n",
       "      <td>Regular customer</td>\n",
       "    </tr>\n",
       "  </tbody>\n",
       "</table>\n",
       "<p>5 rows × 31 columns</p>\n",
       "</div>"
      ],
      "text/plain": [
       "   user_id  gender     state  age date_joined  number_of_dependants  \\\n",
       "0    26711  Female  Missouri   48    1/1/2017                     3   \n",
       "1    26711  Female  Missouri   48    1/1/2017                     3   \n",
       "2    26711  Female  Missouri   48    1/1/2017                     3   \n",
       "3    26711  Female  Missouri   48    1/1/2017                     3   \n",
       "4    26711  Female  Missouri   48    1/1/2017                     3   \n",
       "\n",
       "  family_status  income  order_id  order_number  ...    price_range_loc  \\\n",
       "0       married  165665   2543867             5  ...  Mid-range product   \n",
       "1       married  165665   1285508             7  ...  Mid-range product   \n",
       "2       married  165665   2578584             8  ...  Mid-range product   \n",
       "3       married  165665    423547             2  ...  Mid-range product   \n",
       "4       married  165665   2524893             3  ...  Mid-range product   \n",
       "\n",
       "      busiest_day  Busiest_days  busiest_period_of_day  max_order  \\\n",
       "0  Regularly busy  Busiest days            Most orders          8   \n",
       "1  Regularly busy  Regular days            Most orders          8   \n",
       "2  Regularly busy  Busiest days            Most orders          8   \n",
       "3  Regularly busy  Regular days            Most orders          8   \n",
       "4  Regularly busy  Slowest days            Most orders          8   \n",
       "\n",
       "   loyalty_flag avg_price  spending_flag  median_frequency  \\\n",
       "0  New customer  7.988889    Low spender              19.0   \n",
       "1  New customer  7.988889    Low spender              19.0   \n",
       "2  New customer  7.988889    Low spender              19.0   \n",
       "3  New customer  7.988889    Low spender              19.0   \n",
       "4  New customer  7.988889    Low spender              19.0   \n",
       "\n",
       "   order_frequency_flag  \n",
       "0      Regular customer  \n",
       "1      Regular customer  \n",
       "2      Regular customer  \n",
       "3      Regular customer  \n",
       "4      Regular customer  \n",
       "\n",
       "[5 rows x 31 columns]"
      ]
     },
     "execution_count": 7,
     "metadata": {},
     "output_type": "execute_result"
    }
   ],
   "source": [
    "df_combined.head()"
   ]
  },
  {
   "cell_type": "markdown",
   "id": "14f7ae5a",
   "metadata": {},
   "source": [
    "The full_name column has been dropped because although full_name isn't a direct identifier and thus cannot be used alone to identify an individual, it can be used to aggressively narrow down an individual. Especially when used in conjunction with the state, age and gender columns."
   ]
  },
  {
   "cell_type": "markdown",
   "id": "58294657",
   "metadata": {},
   "source": [
    "## 3. Comparing customer behaviour in different geographic regions\n"
   ]
  },
  {
   "cell_type": "markdown",
   "id": "34314f97",
   "metadata": {},
   "source": [
    "### 3.1 Creating a regional segmentation of the data"
   ]
  },
  {
   "cell_type": "code",
   "execution_count": 8,
   "id": "8f3ec707",
   "metadata": {},
   "outputs": [],
   "source": [
    "# Creating states within regions\n",
    "region = []\n",
    "\n",
    "for value in df_combined['state']:\n",
    "\tif value=='Maine' or value=='New Hampshire' or value=='Vermont' or value == 'Massachusetts' or value == 'Rhode Island' or value == 'Connecticut' or value == 'New York' or value == 'Pennsylvania' or value =='New Jersey':\n",
    "\t\tregion.append('Northeast')\n",
    "\telif value == 'Wisconsin' or value == 'Michigan' or value == 'Illinois' or value == 'Indiana' or value == 'Ohio' or value == 'North Dakota' or value == 'South Dakota' or value == 'Nebraska' or value == 'Kansas' or value == 'Minnesota' or value == 'Iowa' or value == 'Missouri':\n",
    "\t\tregion.append('Midwest')\n",
    "\telif value == 'Idaho' or value == 'Montana' or value == 'Wyoming' or value == 'Nevada' or value == 'Utah' or value == 'Colorado' or value == 'Arizona' or value == 'New Mexico' or value == 'Alaska' or value == 'Washington' or value == 'Oregon' or value == 'California' or value == 'Hawaii':\n",
    "\t\tregion.append('West')\n",
    "\telse:\n",
    "\t\tregion.append('South')"
   ]
  },
  {
   "cell_type": "code",
   "execution_count": 9,
   "id": "1b506a93",
   "metadata": {},
   "outputs": [],
   "source": [
    "# creating the region column\n",
    "df_combined['region'] = region"
   ]
  },
  {
   "cell_type": "code",
   "execution_count": 10,
   "id": "d91ac7eb",
   "metadata": {},
   "outputs": [
    {
     "data": {
      "text/plain": [
       "South        10791885\n",
       "West          8292913\n",
       "Midwest       7597325\n",
       "Northeast     5722736\n",
       "Name: region, dtype: int64"
      ]
     },
     "execution_count": 10,
     "metadata": {},
     "output_type": "execute_result"
    }
   ],
   "source": [
    "df_combined['region'].value_counts(dropna = False)"
   ]
  },
  {
   "cell_type": "markdown",
   "id": "c43d6cc9",
   "metadata": {},
   "source": [
    "### 3.2 Checking differences in spending habits across U.S regions"
   ]
  },
  {
   "cell_type": "code",
   "execution_count": 11,
   "id": "9941ef37",
   "metadata": {},
   "outputs": [],
   "source": [
    "region_spend = pd.crosstab(df_combined['region'], df_combined['spending_flag'], dropna = False)"
   ]
  },
  {
   "cell_type": "code",
   "execution_count": 12,
   "id": "d6742d1c",
   "metadata": {},
   "outputs": [
    {
     "data": {
      "text/html": [
       "<div>\n",
       "<style scoped>\n",
       "    .dataframe tbody tr th:only-of-type {\n",
       "        vertical-align: middle;\n",
       "    }\n",
       "\n",
       "    .dataframe tbody tr th {\n",
       "        vertical-align: top;\n",
       "    }\n",
       "\n",
       "    .dataframe thead th {\n",
       "        text-align: right;\n",
       "    }\n",
       "</style>\n",
       "<table border=\"1\" class=\"dataframe\">\n",
       "  <thead>\n",
       "    <tr style=\"text-align: right;\">\n",
       "      <th>spending_flag</th>\n",
       "      <th>High spender</th>\n",
       "      <th>Low spender</th>\n",
       "    </tr>\n",
       "    <tr>\n",
       "      <th>region</th>\n",
       "      <th></th>\n",
       "      <th></th>\n",
       "    </tr>\n",
       "  </thead>\n",
       "  <tbody>\n",
       "    <tr>\n",
       "      <th>Midwest</th>\n",
       "      <td>29265</td>\n",
       "      <td>7568060</td>\n",
       "    </tr>\n",
       "    <tr>\n",
       "      <th>Northeast</th>\n",
       "      <td>18642</td>\n",
       "      <td>5704094</td>\n",
       "    </tr>\n",
       "    <tr>\n",
       "      <th>South</th>\n",
       "      <td>40564</td>\n",
       "      <td>10751321</td>\n",
       "    </tr>\n",
       "    <tr>\n",
       "      <th>West</th>\n",
       "      <td>31223</td>\n",
       "      <td>8261690</td>\n",
       "    </tr>\n",
       "  </tbody>\n",
       "</table>\n",
       "</div>"
      ],
      "text/plain": [
       "spending_flag  High spender  Low spender\n",
       "region                                  \n",
       "Midwest               29265      7568060\n",
       "Northeast             18642      5704094\n",
       "South                 40564     10751321\n",
       "West                  31223      8261690"
      ]
     },
     "execution_count": 12,
     "metadata": {},
     "output_type": "execute_result"
    }
   ],
   "source": [
    "region_spend"
   ]
  },
  {
   "cell_type": "markdown",
   "id": "786b8a38",
   "metadata": {},
   "source": [
    "The South have the biggest overall spenders. The Northeast has the lowest.\n",
    "Across all regions, the majority of customers are low spenders."
   ]
  },
  {
   "cell_type": "markdown",
   "id": "3003e78a",
   "metadata": {},
   "source": [
    "## 4. Creating an exclusion flag for low-activity customers\n"
   ]
  },
  {
   "cell_type": "code",
   "execution_count": 13,
   "id": "a7a991b2",
   "metadata": {},
   "outputs": [],
   "source": [
    "# Creating the exclusion flag\n",
    "df_combined.loc[df_combined['max_order'] < 5, 'activity_flag'] = 'inactive'"
   ]
  },
  {
   "cell_type": "code",
   "execution_count": 14,
   "id": "117226cd",
   "metadata": {},
   "outputs": [],
   "source": [
    "df_combined.loc[df_combined['max_order'] > 5, 'activity_flag'] = 'active'"
   ]
  },
  {
   "cell_type": "code",
   "execution_count": 15,
   "id": "008cbd4a",
   "metadata": {},
   "outputs": [
    {
     "data": {
      "text/plain": [
       "active      30171424\n",
       "inactive     1440295\n",
       "NaN           793140\n",
       "Name: activity_flag, dtype: int64"
      ]
     },
     "execution_count": 15,
     "metadata": {},
     "output_type": "execute_result"
    }
   ],
   "source": [
    "df_combined['activity_flag'].value_counts(dropna = False)"
   ]
  },
  {
   "cell_type": "code",
   "execution_count": 16,
   "id": "20611056",
   "metadata": {},
   "outputs": [],
   "source": [
    "# Creating an active_users customer subset\n",
    "df_active_users = df_combined.loc[df_combined['activity_flag'] == 'active']"
   ]
  },
  {
   "cell_type": "code",
   "execution_count": 17,
   "id": "1f22d879",
   "metadata": {},
   "outputs": [
    {
     "data": {
      "text/html": [
       "<div>\n",
       "<style scoped>\n",
       "    .dataframe tbody tr th:only-of-type {\n",
       "        vertical-align: middle;\n",
       "    }\n",
       "\n",
       "    .dataframe tbody tr th {\n",
       "        vertical-align: top;\n",
       "    }\n",
       "\n",
       "    .dataframe thead th {\n",
       "        text-align: right;\n",
       "    }\n",
       "</style>\n",
       "<table border=\"1\" class=\"dataframe\">\n",
       "  <thead>\n",
       "    <tr style=\"text-align: right;\">\n",
       "      <th></th>\n",
       "      <th>user_id</th>\n",
       "      <th>gender</th>\n",
       "      <th>state</th>\n",
       "      <th>age</th>\n",
       "      <th>date_joined</th>\n",
       "      <th>number_of_dependants</th>\n",
       "      <th>family_status</th>\n",
       "      <th>income</th>\n",
       "      <th>order_id</th>\n",
       "      <th>order_number</th>\n",
       "      <th>...</th>\n",
       "      <th>Busiest_days</th>\n",
       "      <th>busiest_period_of_day</th>\n",
       "      <th>max_order</th>\n",
       "      <th>loyalty_flag</th>\n",
       "      <th>avg_price</th>\n",
       "      <th>spending_flag</th>\n",
       "      <th>median_frequency</th>\n",
       "      <th>order_frequency_flag</th>\n",
       "      <th>region</th>\n",
       "      <th>activity_flag</th>\n",
       "    </tr>\n",
       "  </thead>\n",
       "  <tbody>\n",
       "    <tr>\n",
       "      <th>0</th>\n",
       "      <td>26711</td>\n",
       "      <td>Female</td>\n",
       "      <td>Missouri</td>\n",
       "      <td>48</td>\n",
       "      <td>1/1/2017</td>\n",
       "      <td>3</td>\n",
       "      <td>married</td>\n",
       "      <td>165665</td>\n",
       "      <td>2543867</td>\n",
       "      <td>5</td>\n",
       "      <td>...</td>\n",
       "      <td>Busiest days</td>\n",
       "      <td>Most orders</td>\n",
       "      <td>8</td>\n",
       "      <td>New customer</td>\n",
       "      <td>7.988889</td>\n",
       "      <td>Low spender</td>\n",
       "      <td>19.0</td>\n",
       "      <td>Regular customer</td>\n",
       "      <td>Midwest</td>\n",
       "      <td>active</td>\n",
       "    </tr>\n",
       "    <tr>\n",
       "      <th>1</th>\n",
       "      <td>26711</td>\n",
       "      <td>Female</td>\n",
       "      <td>Missouri</td>\n",
       "      <td>48</td>\n",
       "      <td>1/1/2017</td>\n",
       "      <td>3</td>\n",
       "      <td>married</td>\n",
       "      <td>165665</td>\n",
       "      <td>1285508</td>\n",
       "      <td>7</td>\n",
       "      <td>...</td>\n",
       "      <td>Regular days</td>\n",
       "      <td>Most orders</td>\n",
       "      <td>8</td>\n",
       "      <td>New customer</td>\n",
       "      <td>7.988889</td>\n",
       "      <td>Low spender</td>\n",
       "      <td>19.0</td>\n",
       "      <td>Regular customer</td>\n",
       "      <td>Midwest</td>\n",
       "      <td>active</td>\n",
       "    </tr>\n",
       "    <tr>\n",
       "      <th>2</th>\n",
       "      <td>26711</td>\n",
       "      <td>Female</td>\n",
       "      <td>Missouri</td>\n",
       "      <td>48</td>\n",
       "      <td>1/1/2017</td>\n",
       "      <td>3</td>\n",
       "      <td>married</td>\n",
       "      <td>165665</td>\n",
       "      <td>2578584</td>\n",
       "      <td>8</td>\n",
       "      <td>...</td>\n",
       "      <td>Busiest days</td>\n",
       "      <td>Most orders</td>\n",
       "      <td>8</td>\n",
       "      <td>New customer</td>\n",
       "      <td>7.988889</td>\n",
       "      <td>Low spender</td>\n",
       "      <td>19.0</td>\n",
       "      <td>Regular customer</td>\n",
       "      <td>Midwest</td>\n",
       "      <td>active</td>\n",
       "    </tr>\n",
       "    <tr>\n",
       "      <th>3</th>\n",
       "      <td>26711</td>\n",
       "      <td>Female</td>\n",
       "      <td>Missouri</td>\n",
       "      <td>48</td>\n",
       "      <td>1/1/2017</td>\n",
       "      <td>3</td>\n",
       "      <td>married</td>\n",
       "      <td>165665</td>\n",
       "      <td>423547</td>\n",
       "      <td>2</td>\n",
       "      <td>...</td>\n",
       "      <td>Regular days</td>\n",
       "      <td>Most orders</td>\n",
       "      <td>8</td>\n",
       "      <td>New customer</td>\n",
       "      <td>7.988889</td>\n",
       "      <td>Low spender</td>\n",
       "      <td>19.0</td>\n",
       "      <td>Regular customer</td>\n",
       "      <td>Midwest</td>\n",
       "      <td>active</td>\n",
       "    </tr>\n",
       "    <tr>\n",
       "      <th>4</th>\n",
       "      <td>26711</td>\n",
       "      <td>Female</td>\n",
       "      <td>Missouri</td>\n",
       "      <td>48</td>\n",
       "      <td>1/1/2017</td>\n",
       "      <td>3</td>\n",
       "      <td>married</td>\n",
       "      <td>165665</td>\n",
       "      <td>2524893</td>\n",
       "      <td>3</td>\n",
       "      <td>...</td>\n",
       "      <td>Slowest days</td>\n",
       "      <td>Most orders</td>\n",
       "      <td>8</td>\n",
       "      <td>New customer</td>\n",
       "      <td>7.988889</td>\n",
       "      <td>Low spender</td>\n",
       "      <td>19.0</td>\n",
       "      <td>Regular customer</td>\n",
       "      <td>Midwest</td>\n",
       "      <td>active</td>\n",
       "    </tr>\n",
       "  </tbody>\n",
       "</table>\n",
       "<p>5 rows × 33 columns</p>\n",
       "</div>"
      ],
      "text/plain": [
       "   user_id  gender     state  age date_joined  number_of_dependants  \\\n",
       "0    26711  Female  Missouri   48    1/1/2017                     3   \n",
       "1    26711  Female  Missouri   48    1/1/2017                     3   \n",
       "2    26711  Female  Missouri   48    1/1/2017                     3   \n",
       "3    26711  Female  Missouri   48    1/1/2017                     3   \n",
       "4    26711  Female  Missouri   48    1/1/2017                     3   \n",
       "\n",
       "  family_status  income  order_id  order_number  ...  Busiest_days  \\\n",
       "0       married  165665   2543867             5  ...  Busiest days   \n",
       "1       married  165665   1285508             7  ...  Regular days   \n",
       "2       married  165665   2578584             8  ...  Busiest days   \n",
       "3       married  165665    423547             2  ...  Regular days   \n",
       "4       married  165665   2524893             3  ...  Slowest days   \n",
       "\n",
       "   busiest_period_of_day  max_order  loyalty_flag  avg_price  spending_flag  \\\n",
       "0            Most orders          8  New customer   7.988889    Low spender   \n",
       "1            Most orders          8  New customer   7.988889    Low spender   \n",
       "2            Most orders          8  New customer   7.988889    Low spender   \n",
       "3            Most orders          8  New customer   7.988889    Low spender   \n",
       "4            Most orders          8  New customer   7.988889    Low spender   \n",
       "\n",
       "  median_frequency  order_frequency_flag   region  activity_flag  \n",
       "0             19.0      Regular customer  Midwest         active  \n",
       "1             19.0      Regular customer  Midwest         active  \n",
       "2             19.0      Regular customer  Midwest         active  \n",
       "3             19.0      Regular customer  Midwest         active  \n",
       "4             19.0      Regular customer  Midwest         active  \n",
       "\n",
       "[5 rows x 33 columns]"
      ]
     },
     "execution_count": 17,
     "metadata": {},
     "output_type": "execute_result"
    }
   ],
   "source": [
    "# Checking the active users table\n",
    "df_active_users.head()"
   ]
  },
  {
   "cell_type": "markdown",
   "id": "5756c516",
   "metadata": {},
   "source": [
    "### 4.1 Exporting the active-users dataframe"
   ]
  },
  {
   "cell_type": "code",
   "execution_count": 18,
   "id": "55d208aa",
   "metadata": {},
   "outputs": [],
   "source": [
    "# Exporting the subset\n",
    "df_active_users.to_pickle(os.path.join(path, '02 Data', 'Prepared Data', 'active_users.pkl'))"
   ]
  },
  {
   "cell_type": "markdown",
   "id": "27f6b51d",
   "metadata": {},
   "source": [
    "## 5. Creating a profiling variable based on age"
   ]
  },
  {
   "cell_type": "code",
   "execution_count": 19,
   "id": "889c1c96",
   "metadata": {},
   "outputs": [
    {
     "data": {
      "text/html": [
       "<div>\n",
       "<style scoped>\n",
       "    .dataframe tbody tr th:only-of-type {\n",
       "        vertical-align: middle;\n",
       "    }\n",
       "\n",
       "    .dataframe tbody tr th {\n",
       "        vertical-align: top;\n",
       "    }\n",
       "\n",
       "    .dataframe thead th {\n",
       "        text-align: right;\n",
       "    }\n",
       "</style>\n",
       "<table border=\"1\" class=\"dataframe\">\n",
       "  <thead>\n",
       "    <tr style=\"text-align: right;\">\n",
       "      <th></th>\n",
       "      <th>age</th>\n",
       "      <th>income</th>\n",
       "    </tr>\n",
       "  </thead>\n",
       "  <tbody>\n",
       "    <tr>\n",
       "      <th>count</th>\n",
       "      <td>3.240486e+07</td>\n",
       "      <td>3.240486e+07</td>\n",
       "    </tr>\n",
       "    <tr>\n",
       "      <th>mean</th>\n",
       "      <td>4.946527e+01</td>\n",
       "      <td>9.943773e+04</td>\n",
       "    </tr>\n",
       "    <tr>\n",
       "      <th>std</th>\n",
       "      <td>1.848558e+01</td>\n",
       "      <td>4.305727e+04</td>\n",
       "    </tr>\n",
       "    <tr>\n",
       "      <th>min</th>\n",
       "      <td>1.800000e+01</td>\n",
       "      <td>2.590300e+04</td>\n",
       "    </tr>\n",
       "    <tr>\n",
       "      <th>25%</th>\n",
       "      <td>3.300000e+01</td>\n",
       "      <td>6.700400e+04</td>\n",
       "    </tr>\n",
       "    <tr>\n",
       "      <th>50%</th>\n",
       "      <td>4.900000e+01</td>\n",
       "      <td>9.661800e+04</td>\n",
       "    </tr>\n",
       "    <tr>\n",
       "      <th>75%</th>\n",
       "      <td>6.500000e+01</td>\n",
       "      <td>1.279120e+05</td>\n",
       "    </tr>\n",
       "    <tr>\n",
       "      <th>max</th>\n",
       "      <td>8.100000e+01</td>\n",
       "      <td>5.939010e+05</td>\n",
       "    </tr>\n",
       "  </tbody>\n",
       "</table>\n",
       "</div>"
      ],
      "text/plain": [
       "                age        income\n",
       "count  3.240486e+07  3.240486e+07\n",
       "mean   4.946527e+01  9.943773e+04\n",
       "std    1.848558e+01  4.305727e+04\n",
       "min    1.800000e+01  2.590300e+04\n",
       "25%    3.300000e+01  6.700400e+04\n",
       "50%    4.900000e+01  9.661800e+04\n",
       "75%    6.500000e+01  1.279120e+05\n",
       "max    8.100000e+01  5.939010e+05"
      ]
     },
     "execution_count": 19,
     "metadata": {},
     "output_type": "execute_result"
    }
   ],
   "source": [
    "# Checking the descriptive statistics of 'age' and 'income'\n",
    "df_combined[['age', 'income']].describe()"
   ]
  },
  {
   "cell_type": "code",
   "execution_count": 20,
   "id": "75dfbf67",
   "metadata": {},
   "outputs": [],
   "source": [
    "# Creating an age_flag\n",
    "df_combined.loc[(df_combined['age'] <= 40), 'age_profile'] = '18-40'"
   ]
  },
  {
   "cell_type": "code",
   "execution_count": 21,
   "id": "7c3665bd",
   "metadata": {},
   "outputs": [],
   "source": [
    "df_combined.loc[(df_combined['age'] > 40) & (df_combined['age'] <= 60), 'age_profile'] = '40-60'"
   ]
  },
  {
   "cell_type": "code",
   "execution_count": 22,
   "id": "bbd85cb1",
   "metadata": {},
   "outputs": [],
   "source": [
    "df_combined.loc[(df_combined['age'] > 60), 'age_profile'] = '60+'"
   ]
  },
  {
   "cell_type": "code",
   "execution_count": 23,
   "id": "0ac8d4e0",
   "metadata": {},
   "outputs": [
    {
     "data": {
      "text/plain": [
       "18-40    11670046\n",
       "60+      10582839\n",
       "40-60    10151974\n",
       "Name: age_profile, dtype: int64"
      ]
     },
     "execution_count": 23,
     "metadata": {},
     "output_type": "execute_result"
    }
   ],
   "source": [
    "df_combined['age_profile'].value_counts(dropna = False)"
   ]
  },
  {
   "cell_type": "markdown",
   "id": "3c1e5d8e",
   "metadata": {},
   "source": [
    "### 5.1 Creating a pie chart to show the distribution of ages"
   ]
  },
  {
   "cell_type": "code",
   "execution_count": 24,
   "id": "ed506a17",
   "metadata": {},
   "outputs": [
    {
     "data": {
      "image/png": "[encoded data removed]",
      "text/plain": [
       "<Figure size 640x480 with 1 Axes>"
      ]
     },
     "metadata": {},
     "output_type": "display_data"
    }
   ],
   "source": [
    "# age pie chart\n",
    "age_profile_pie = df_combined['age_profile'].value_counts().plot.pie(title ='Age Profile', label = '', autopct=('%1.f%%'))"
   ]
  },
  {
   "cell_type": "markdown",
   "id": "63e9f1aa",
   "metadata": {},
   "source": [
    "### 5.2 Aggregating the max, mean, and min variables of the age profile for usage frequency and expenditure"
   ]
  },
  {
   "cell_type": "code",
   "execution_count": 25,
   "id": "ab92fbb9",
   "metadata": {},
   "outputs": [],
   "source": [
    "# Age Aggregated with usage frequency and expenditure\n",
    "age_agg = df_combined.groupby(['age_profile']).agg({'days_since_prior_order' : ['min', 'max', 'mean'], 'prices' : ['min', 'max', 'mean', 'sum']})"
   ]
  },
  {
   "cell_type": "code",
   "execution_count": 26,
   "id": "ec9c5936",
   "metadata": {},
   "outputs": [
    {
     "data": {
      "text/html": [
       "<div>\n",
       "<style scoped>\n",
       "    .dataframe tbody tr th:only-of-type {\n",
       "        vertical-align: middle;\n",
       "    }\n",
       "\n",
       "    .dataframe tbody tr th {\n",
       "        vertical-align: top;\n",
       "    }\n",
       "\n",
       "    .dataframe thead tr th {\n",
       "        text-align: left;\n",
       "    }\n",
       "\n",
       "    .dataframe thead tr:last-of-type th {\n",
       "        text-align: right;\n",
       "    }\n",
       "</style>\n",
       "<table border=\"1\" class=\"dataframe\">\n",
       "  <thead>\n",
       "    <tr>\n",
       "      <th></th>\n",
       "      <th colspan=\"3\" halign=\"left\">days_since_prior_order</th>\n",
       "      <th colspan=\"4\" halign=\"left\">prices</th>\n",
       "    </tr>\n",
       "    <tr>\n",
       "      <th></th>\n",
       "      <th>min</th>\n",
       "      <th>max</th>\n",
       "      <th>mean</th>\n",
       "      <th>min</th>\n",
       "      <th>max</th>\n",
       "      <th>mean</th>\n",
       "      <th>sum</th>\n",
       "    </tr>\n",
       "    <tr>\n",
       "      <th>age_profile</th>\n",
       "      <th></th>\n",
       "      <th></th>\n",
       "      <th></th>\n",
       "      <th></th>\n",
       "      <th></th>\n",
       "      <th></th>\n",
       "      <th></th>\n",
       "    </tr>\n",
       "  </thead>\n",
       "  <tbody>\n",
       "    <tr>\n",
       "      <th>18-40</th>\n",
       "      <td>0.0</td>\n",
       "      <td>30.0</td>\n",
       "      <td>11.109790</td>\n",
       "      <td>1.0</td>\n",
       "      <td>25.0</td>\n",
       "      <td>7.785757</td>\n",
       "      <td>90860139.83</td>\n",
       "    </tr>\n",
       "    <tr>\n",
       "      <th>40-60</th>\n",
       "      <td>0.0</td>\n",
       "      <td>30.0</td>\n",
       "      <td>11.119174</td>\n",
       "      <td>1.0</td>\n",
       "      <td>25.0</td>\n",
       "      <td>7.790087</td>\n",
       "      <td>79084761.88</td>\n",
       "    </tr>\n",
       "    <tr>\n",
       "      <th>60+</th>\n",
       "      <td>0.0</td>\n",
       "      <td>30.0</td>\n",
       "      <td>11.083299</td>\n",
       "      <td>1.0</td>\n",
       "      <td>25.0</td>\n",
       "      <td>7.795148</td>\n",
       "      <td>82494791.12</td>\n",
       "    </tr>\n",
       "  </tbody>\n",
       "</table>\n",
       "</div>"
      ],
      "text/plain": [
       "            days_since_prior_order                  prices                  \\\n",
       "                               min   max       mean    min   max      mean   \n",
       "age_profile                                                                  \n",
       "18-40                          0.0  30.0  11.109790    1.0  25.0  7.785757   \n",
       "40-60                          0.0  30.0  11.119174    1.0  25.0  7.790087   \n",
       "60+                            0.0  30.0  11.083299    1.0  25.0  7.795148   \n",
       "\n",
       "                          \n",
       "                     sum  \n",
       "age_profile               \n",
       "18-40        90860139.83  \n",
       "40-60        79084761.88  \n",
       "60+          82494791.12  "
      ]
     },
     "execution_count": 26,
     "metadata": {},
     "output_type": "execute_result"
    }
   ],
   "source": [
    "age_agg"
   ]
  },
  {
   "cell_type": "markdown",
   "id": "ac56cb19",
   "metadata": {},
   "source": [
    "### 5.3 Comparing age profile by region"
   ]
  },
  {
   "cell_type": "markdown",
   "id": "3109fbe2",
   "metadata": {},
   "source": [
    "Across all age profiles, customers have on average 11 days between their orders. In addition, the maximum time a returning customer places their order is monthly (30 days). As for expenditure, across all age profiles, customes have the same expenditure."
   ]
  },
  {
   "cell_type": "code",
   "execution_count": 27,
   "id": "c0c93309",
   "metadata": {},
   "outputs": [],
   "source": [
    "#Creating a crosstab to compare age profiles across regions\n",
    "cross_age_region = pd.crosstab(index = df_combined['age_profile'],\n",
    "                                   columns = df_combined['region'], normalize = 'index')"
   ]
  },
  {
   "cell_type": "code",
   "execution_count": 28,
   "id": "40e162e5",
   "metadata": {},
   "outputs": [
    {
     "data": {
      "image/png": "[encoded data removed]",
      "text/plain": [
       "<Figure size 640x480 with 1 Axes>"
      ]
     },
     "metadata": {},
     "output_type": "display_data"
    }
   ],
   "source": [
    "#Create a bar chart to visualize the relation between age profile and loyalty\n",
    "\n",
    "bar_age_region = cross_age_region.plot(kind = 'bar', stacked = True)\n",
    "plt.legend(loc = 'lower right', ncol = 4) \n",
    "\n",
    "plt.title('Age Profiles by Region')\n",
    "plt.show()"
   ]
  },
  {
   "cell_type": "markdown",
   "id": "f1afd715",
   "metadata": {},
   "source": [
    "### 5.4 Comparing age profile by loyalty"
   ]
  },
  {
   "cell_type": "code",
   "execution_count": 29,
   "id": "4b060617",
   "metadata": {},
   "outputs": [
    {
     "data": {
      "image/png": "[encoded data removed]",
      "text/plain": [
       "<Figure size 640x480 with 1 Axes>"
      ]
     },
     "metadata": {},
     "output_type": "display_data"
    },
    {
     "data": {
      "text/plain": [
       "<Figure size 640x480 with 0 Axes>"
      ]
     },
     "metadata": {},
     "output_type": "display_data"
    }
   ],
   "source": [
    "# Create a crosstab to compare age profile and loyalty flag\n",
    "# Normalizing the index to get row percentages\n",
    "\n",
    "cross_loyalty_age =  pd.crosstab(index = df_combined['age_profile'], \n",
    "                                         columns = df_combined['loyalty_flag'], \n",
    "                                         normalize = 'index')\n",
    "\n",
    "#Create a bar chart to visualize the relation between age profile and loyalty\n",
    "\n",
    "bar_loyalty_age = cross_loyalty_age.plot(kind = 'bar', stacked = True)\n",
    "plt.legend(loc = 'lower right', ncol = 4) \n",
    "\n",
    "for n, x in enumerate([*cross_loyalty_age.index.values]):\n",
    "    for (proportion, y_loc) in zip(cross_loyalty_age.loc[x],\n",
    "                               cross_loyalty_age.loc[x].cumsum()):\n",
    "            \n",
    "        plt.text(x= n -0.30, \n",
    "            y= y_loc,\n",
    "            s= f'{np.round(proportion * 100, 1)}%',\n",
    "            color ='black', \n",
    "            fontsize = 8,\n",
    "            fontweight = 'bold')\n",
    "\n",
    "plt.title('Age Profiles by Loyalty')\n",
    "plt.show()\n",
    "plt.tight_layout()"
   ]
  },
  {
   "cell_type": "code",
   "execution_count": 105,
   "id": "fbe8341a",
   "metadata": {},
   "outputs": [],
   "source": [
    "# loyalty aggregation by expenditure and usage frequency\n",
    "loyalty_agg = df_combined.groupby(['loyalty_flag']).agg({'prices' : ['min', 'max', 'mean']})"
   ]
  },
  {
   "cell_type": "code",
   "execution_count": 106,
   "id": "ff8b3093",
   "metadata": {},
   "outputs": [
    {
     "data": {
      "text/html": [
       "<div>\n",
       "<style scoped>\n",
       "    .dataframe tbody tr th:only-of-type {\n",
       "        vertical-align: middle;\n",
       "    }\n",
       "\n",
       "    .dataframe tbody tr th {\n",
       "        vertical-align: top;\n",
       "    }\n",
       "\n",
       "    .dataframe thead tr th {\n",
       "        text-align: left;\n",
       "    }\n",
       "\n",
       "    .dataframe thead tr:last-of-type th {\n",
       "        text-align: right;\n",
       "    }\n",
       "</style>\n",
       "<table border=\"1\" class=\"dataframe\">\n",
       "  <thead>\n",
       "    <tr>\n",
       "      <th></th>\n",
       "      <th colspan=\"3\" halign=\"left\">prices</th>\n",
       "    </tr>\n",
       "    <tr>\n",
       "      <th></th>\n",
       "      <th>min</th>\n",
       "      <th>max</th>\n",
       "      <th>mean</th>\n",
       "    </tr>\n",
       "    <tr>\n",
       "      <th>loyalty_flag</th>\n",
       "      <th></th>\n",
       "      <th></th>\n",
       "      <th></th>\n",
       "    </tr>\n",
       "  </thead>\n",
       "  <tbody>\n",
       "    <tr>\n",
       "      <th>Loyal customer</th>\n",
       "      <td>1.0</td>\n",
       "      <td>25.0</td>\n",
       "      <td>7.772831</td>\n",
       "    </tr>\n",
       "    <tr>\n",
       "      <th>New customer</th>\n",
       "      <td>1.0</td>\n",
       "      <td>25.0</td>\n",
       "      <td>7.800320</td>\n",
       "    </tr>\n",
       "    <tr>\n",
       "      <th>Regular customer</th>\n",
       "      <td>1.0</td>\n",
       "      <td>25.0</td>\n",
       "      <td>7.797431</td>\n",
       "    </tr>\n",
       "  </tbody>\n",
       "</table>\n",
       "</div>"
      ],
      "text/plain": [
       "                 prices                \n",
       "                    min   max      mean\n",
       "loyalty_flag                           \n",
       "Loyal customer      1.0  25.0  7.772831\n",
       "New customer        1.0  25.0  7.800320\n",
       "Regular customer    1.0  25.0  7.797431"
      ]
     },
     "execution_count": 106,
     "metadata": {},
     "output_type": "execute_result"
    }
   ],
   "source": [
    "loyalty_agg"
   ]
  },
  {
   "cell_type": "code",
   "execution_count": 30,
   "id": "ac0dd943",
   "metadata": {},
   "outputs": [],
   "source": [
    "#Exporting the stacked bar chart visualisation \n",
    "bar_loyalty_age.figure.savefig(os.path.join(path, '04 Analysis', 'Visualisations', 'bar_loyalty_age.stck_bar.png'))\n"
   ]
  },
  {
   "cell_type": "markdown",
   "id": "19b2cce8",
   "metadata": {},
   "source": [
    "### 5.5 Creating a data dictionary for department_id"
   ]
  },
  {
   "cell_type": "code",
   "execution_count": 31,
   "id": "fd4e5240",
   "metadata": {},
   "outputs": [],
   "source": [
    "# Importing department dataframe\n",
    "path = r'C:\\Users\\User 1\\Documents\\Instacart Basket Analysis 04-2023'\n",
    "df_department = pd.read_csv(os.path.join(path, '02 Data', 'Original Data', 'departments.csv'), index_col = False)"
   ]
  },
  {
   "cell_type": "code",
   "execution_count": 32,
   "id": "3b11567f",
   "metadata": {},
   "outputs": [
    {
     "data": {
      "text/html": [
       "<div>\n",
       "<style scoped>\n",
       "    .dataframe tbody tr th:only-of-type {\n",
       "        vertical-align: middle;\n",
       "    }\n",
       "\n",
       "    .dataframe tbody tr th {\n",
       "        vertical-align: top;\n",
       "    }\n",
       "\n",
       "    .dataframe thead th {\n",
       "        text-align: right;\n",
       "    }\n",
       "</style>\n",
       "<table border=\"1\" class=\"dataframe\">\n",
       "  <thead>\n",
       "    <tr style=\"text-align: right;\">\n",
       "      <th></th>\n",
       "      <th>department_id</th>\n",
       "      <th>1</th>\n",
       "      <th>2</th>\n",
       "      <th>3</th>\n",
       "      <th>4</th>\n",
       "      <th>5</th>\n",
       "      <th>6</th>\n",
       "      <th>7</th>\n",
       "      <th>8</th>\n",
       "      <th>9</th>\n",
       "      <th>...</th>\n",
       "      <th>12</th>\n",
       "      <th>13</th>\n",
       "      <th>14</th>\n",
       "      <th>15</th>\n",
       "      <th>16</th>\n",
       "      <th>17</th>\n",
       "      <th>18</th>\n",
       "      <th>19</th>\n",
       "      <th>20</th>\n",
       "      <th>21</th>\n",
       "    </tr>\n",
       "  </thead>\n",
       "  <tbody>\n",
       "    <tr>\n",
       "      <th>0</th>\n",
       "      <td>department</td>\n",
       "      <td>frozen</td>\n",
       "      <td>other</td>\n",
       "      <td>bakery</td>\n",
       "      <td>produce</td>\n",
       "      <td>alcohol</td>\n",
       "      <td>international</td>\n",
       "      <td>beverages</td>\n",
       "      <td>pets</td>\n",
       "      <td>dry goods pasta</td>\n",
       "      <td>...</td>\n",
       "      <td>meat seafood</td>\n",
       "      <td>pantry</td>\n",
       "      <td>breakfast</td>\n",
       "      <td>canned goods</td>\n",
       "      <td>dairy eggs</td>\n",
       "      <td>household</td>\n",
       "      <td>babies</td>\n",
       "      <td>snacks</td>\n",
       "      <td>deli</td>\n",
       "      <td>missing</td>\n",
       "    </tr>\n",
       "  </tbody>\n",
       "</table>\n",
       "<p>1 rows × 22 columns</p>\n",
       "</div>"
      ],
      "text/plain": [
       "  department_id       1      2       3        4        5              6  \\\n",
       "0    department  frozen  other  bakery  produce  alcohol  international   \n",
       "\n",
       "           7     8                9  ...            12      13         14  \\\n",
       "0  beverages  pets  dry goods pasta  ...  meat seafood  pantry  breakfast   \n",
       "\n",
       "             15          16         17      18      19    20       21  \n",
       "0  canned goods  dairy eggs  household  babies  snacks  deli  missing  \n",
       "\n",
       "[1 rows x 22 columns]"
      ]
     },
     "execution_count": 32,
     "metadata": {},
     "output_type": "execute_result"
    }
   ],
   "source": [
    "df_department"
   ]
  },
  {
   "cell_type": "code",
   "execution_count": 33,
   "id": "be5c25bf",
   "metadata": {},
   "outputs": [
    {
     "data": {
      "text/html": [
       "<div>\n",
       "<style scoped>\n",
       "    .dataframe tbody tr th:only-of-type {\n",
       "        vertical-align: middle;\n",
       "    }\n",
       "\n",
       "    .dataframe tbody tr th {\n",
       "        vertical-align: top;\n",
       "    }\n",
       "\n",
       "    .dataframe thead th {\n",
       "        text-align: right;\n",
       "    }\n",
       "</style>\n",
       "<table border=\"1\" class=\"dataframe\">\n",
       "  <thead>\n",
       "    <tr style=\"text-align: right;\">\n",
       "      <th></th>\n",
       "      <th>0</th>\n",
       "    </tr>\n",
       "  </thead>\n",
       "  <tbody>\n",
       "    <tr>\n",
       "      <th>department_id</th>\n",
       "      <td>department</td>\n",
       "    </tr>\n",
       "    <tr>\n",
       "      <th>1</th>\n",
       "      <td>frozen</td>\n",
       "    </tr>\n",
       "    <tr>\n",
       "      <th>2</th>\n",
       "      <td>other</td>\n",
       "    </tr>\n",
       "    <tr>\n",
       "      <th>3</th>\n",
       "      <td>bakery</td>\n",
       "    </tr>\n",
       "    <tr>\n",
       "      <th>4</th>\n",
       "      <td>produce</td>\n",
       "    </tr>\n",
       "    <tr>\n",
       "      <th>5</th>\n",
       "      <td>alcohol</td>\n",
       "    </tr>\n",
       "    <tr>\n",
       "      <th>6</th>\n",
       "      <td>international</td>\n",
       "    </tr>\n",
       "    <tr>\n",
       "      <th>7</th>\n",
       "      <td>beverages</td>\n",
       "    </tr>\n",
       "    <tr>\n",
       "      <th>8</th>\n",
       "      <td>pets</td>\n",
       "    </tr>\n",
       "    <tr>\n",
       "      <th>9</th>\n",
       "      <td>dry goods pasta</td>\n",
       "    </tr>\n",
       "    <tr>\n",
       "      <th>10</th>\n",
       "      <td>bulk</td>\n",
       "    </tr>\n",
       "    <tr>\n",
       "      <th>11</th>\n",
       "      <td>personal care</td>\n",
       "    </tr>\n",
       "    <tr>\n",
       "      <th>12</th>\n",
       "      <td>meat seafood</td>\n",
       "    </tr>\n",
       "    <tr>\n",
       "      <th>13</th>\n",
       "      <td>pantry</td>\n",
       "    </tr>\n",
       "    <tr>\n",
       "      <th>14</th>\n",
       "      <td>breakfast</td>\n",
       "    </tr>\n",
       "    <tr>\n",
       "      <th>15</th>\n",
       "      <td>canned goods</td>\n",
       "    </tr>\n",
       "    <tr>\n",
       "      <th>16</th>\n",
       "      <td>dairy eggs</td>\n",
       "    </tr>\n",
       "    <tr>\n",
       "      <th>17</th>\n",
       "      <td>household</td>\n",
       "    </tr>\n",
       "    <tr>\n",
       "      <th>18</th>\n",
       "      <td>babies</td>\n",
       "    </tr>\n",
       "    <tr>\n",
       "      <th>19</th>\n",
       "      <td>snacks</td>\n",
       "    </tr>\n",
       "    <tr>\n",
       "      <th>20</th>\n",
       "      <td>deli</td>\n",
       "    </tr>\n",
       "    <tr>\n",
       "      <th>21</th>\n",
       "      <td>missing</td>\n",
       "    </tr>\n",
       "  </tbody>\n",
       "</table>\n",
       "</div>"
      ],
      "text/plain": [
       "                             0\n",
       "department_id       department\n",
       "1                       frozen\n",
       "2                        other\n",
       "3                       bakery\n",
       "4                      produce\n",
       "5                      alcohol\n",
       "6                international\n",
       "7                    beverages\n",
       "8                         pets\n",
       "9              dry goods pasta\n",
       "10                        bulk\n",
       "11               personal care\n",
       "12                meat seafood\n",
       "13                      pantry\n",
       "14                   breakfast\n",
       "15                canned goods\n",
       "16                  dairy eggs\n",
       "17                   household\n",
       "18                      babies\n",
       "19                      snacks\n",
       "20                        deli\n",
       "21                     missing"
      ]
     },
     "execution_count": 33,
     "metadata": {},
     "output_type": "execute_result"
    }
   ],
   "source": [
    "# Transposing df_department\n",
    "df_department.T"
   ]
  },
  {
   "cell_type": "code",
   "execution_count": 34,
   "id": "4b126fb4",
   "metadata": {},
   "outputs": [],
   "source": [
    "df_dep_t = df_department.T"
   ]
  },
  {
   "cell_type": "code",
   "execution_count": 35,
   "id": "424250f5",
   "metadata": {},
   "outputs": [
    {
     "data": {
      "text/html": [
       "<div>\n",
       "<style scoped>\n",
       "    .dataframe tbody tr th:only-of-type {\n",
       "        vertical-align: middle;\n",
       "    }\n",
       "\n",
       "    .dataframe tbody tr th {\n",
       "        vertical-align: top;\n",
       "    }\n",
       "\n",
       "    .dataframe thead th {\n",
       "        text-align: right;\n",
       "    }\n",
       "</style>\n",
       "<table border=\"1\" class=\"dataframe\">\n",
       "  <thead>\n",
       "    <tr style=\"text-align: right;\">\n",
       "      <th></th>\n",
       "      <th>index</th>\n",
       "      <th>0</th>\n",
       "    </tr>\n",
       "  </thead>\n",
       "  <tbody>\n",
       "    <tr>\n",
       "      <th>0</th>\n",
       "      <td>department_id</td>\n",
       "      <td>department</td>\n",
       "    </tr>\n",
       "    <tr>\n",
       "      <th>1</th>\n",
       "      <td>1</td>\n",
       "      <td>frozen</td>\n",
       "    </tr>\n",
       "    <tr>\n",
       "      <th>2</th>\n",
       "      <td>2</td>\n",
       "      <td>other</td>\n",
       "    </tr>\n",
       "    <tr>\n",
       "      <th>3</th>\n",
       "      <td>3</td>\n",
       "      <td>bakery</td>\n",
       "    </tr>\n",
       "    <tr>\n",
       "      <th>4</th>\n",
       "      <td>4</td>\n",
       "      <td>produce</td>\n",
       "    </tr>\n",
       "    <tr>\n",
       "      <th>5</th>\n",
       "      <td>5</td>\n",
       "      <td>alcohol</td>\n",
       "    </tr>\n",
       "    <tr>\n",
       "      <th>6</th>\n",
       "      <td>6</td>\n",
       "      <td>international</td>\n",
       "    </tr>\n",
       "    <tr>\n",
       "      <th>7</th>\n",
       "      <td>7</td>\n",
       "      <td>beverages</td>\n",
       "    </tr>\n",
       "    <tr>\n",
       "      <th>8</th>\n",
       "      <td>8</td>\n",
       "      <td>pets</td>\n",
       "    </tr>\n",
       "    <tr>\n",
       "      <th>9</th>\n",
       "      <td>9</td>\n",
       "      <td>dry goods pasta</td>\n",
       "    </tr>\n",
       "    <tr>\n",
       "      <th>10</th>\n",
       "      <td>10</td>\n",
       "      <td>bulk</td>\n",
       "    </tr>\n",
       "    <tr>\n",
       "      <th>11</th>\n",
       "      <td>11</td>\n",
       "      <td>personal care</td>\n",
       "    </tr>\n",
       "    <tr>\n",
       "      <th>12</th>\n",
       "      <td>12</td>\n",
       "      <td>meat seafood</td>\n",
       "    </tr>\n",
       "    <tr>\n",
       "      <th>13</th>\n",
       "      <td>13</td>\n",
       "      <td>pantry</td>\n",
       "    </tr>\n",
       "    <tr>\n",
       "      <th>14</th>\n",
       "      <td>14</td>\n",
       "      <td>breakfast</td>\n",
       "    </tr>\n",
       "    <tr>\n",
       "      <th>15</th>\n",
       "      <td>15</td>\n",
       "      <td>canned goods</td>\n",
       "    </tr>\n",
       "    <tr>\n",
       "      <th>16</th>\n",
       "      <td>16</td>\n",
       "      <td>dairy eggs</td>\n",
       "    </tr>\n",
       "    <tr>\n",
       "      <th>17</th>\n",
       "      <td>17</td>\n",
       "      <td>household</td>\n",
       "    </tr>\n",
       "    <tr>\n",
       "      <th>18</th>\n",
       "      <td>18</td>\n",
       "      <td>babies</td>\n",
       "    </tr>\n",
       "    <tr>\n",
       "      <th>19</th>\n",
       "      <td>19</td>\n",
       "      <td>snacks</td>\n",
       "    </tr>\n",
       "    <tr>\n",
       "      <th>20</th>\n",
       "      <td>20</td>\n",
       "      <td>deli</td>\n",
       "    </tr>\n",
       "    <tr>\n",
       "      <th>21</th>\n",
       "      <td>21</td>\n",
       "      <td>missing</td>\n",
       "    </tr>\n",
       "  </tbody>\n",
       "</table>\n",
       "</div>"
      ],
      "text/plain": [
       "            index                0\n",
       "0   department_id       department\n",
       "1               1           frozen\n",
       "2               2            other\n",
       "3               3           bakery\n",
       "4               4          produce\n",
       "5               5          alcohol\n",
       "6               6    international\n",
       "7               7        beverages\n",
       "8               8             pets\n",
       "9               9  dry goods pasta\n",
       "10             10             bulk\n",
       "11             11    personal care\n",
       "12             12     meat seafood\n",
       "13             13           pantry\n",
       "14             14        breakfast\n",
       "15             15     canned goods\n",
       "16             16       dairy eggs\n",
       "17             17        household\n",
       "18             18           babies\n",
       "19             19           snacks\n",
       "20             20             deli\n",
       "21             21          missing"
      ]
     },
     "execution_count": 35,
     "metadata": {},
     "output_type": "execute_result"
    }
   ],
   "source": [
    "# Creating a new header for the department dataframe\n",
    "df_dep_t.reset_index()"
   ]
  },
  {
   "cell_type": "code",
   "execution_count": 36,
   "id": "f77f39af",
   "metadata": {},
   "outputs": [],
   "source": [
    "new_header = df_dep_t.iloc[0]\n",
    "df_dep_t_new = df_dep_t[1:]"
   ]
  },
  {
   "cell_type": "code",
   "execution_count": 37,
   "id": "c9c92b9b",
   "metadata": {},
   "outputs": [
    {
     "data": {
      "text/html": [
       "<div>\n",
       "<style scoped>\n",
       "    .dataframe tbody tr th:only-of-type {\n",
       "        vertical-align: middle;\n",
       "    }\n",
       "\n",
       "    .dataframe tbody tr th {\n",
       "        vertical-align: top;\n",
       "    }\n",
       "\n",
       "    .dataframe thead th {\n",
       "        text-align: right;\n",
       "    }\n",
       "</style>\n",
       "<table border=\"1\" class=\"dataframe\">\n",
       "  <thead>\n",
       "    <tr style=\"text-align: right;\">\n",
       "      <th></th>\n",
       "      <th>0</th>\n",
       "    </tr>\n",
       "  </thead>\n",
       "  <tbody>\n",
       "    <tr>\n",
       "      <th>1</th>\n",
       "      <td>frozen</td>\n",
       "    </tr>\n",
       "    <tr>\n",
       "      <th>2</th>\n",
       "      <td>other</td>\n",
       "    </tr>\n",
       "    <tr>\n",
       "      <th>3</th>\n",
       "      <td>bakery</td>\n",
       "    </tr>\n",
       "    <tr>\n",
       "      <th>4</th>\n",
       "      <td>produce</td>\n",
       "    </tr>\n",
       "    <tr>\n",
       "      <th>5</th>\n",
       "      <td>alcohol</td>\n",
       "    </tr>\n",
       "    <tr>\n",
       "      <th>6</th>\n",
       "      <td>international</td>\n",
       "    </tr>\n",
       "    <tr>\n",
       "      <th>7</th>\n",
       "      <td>beverages</td>\n",
       "    </tr>\n",
       "    <tr>\n",
       "      <th>8</th>\n",
       "      <td>pets</td>\n",
       "    </tr>\n",
       "    <tr>\n",
       "      <th>9</th>\n",
       "      <td>dry goods pasta</td>\n",
       "    </tr>\n",
       "    <tr>\n",
       "      <th>10</th>\n",
       "      <td>bulk</td>\n",
       "    </tr>\n",
       "    <tr>\n",
       "      <th>11</th>\n",
       "      <td>personal care</td>\n",
       "    </tr>\n",
       "    <tr>\n",
       "      <th>12</th>\n",
       "      <td>meat seafood</td>\n",
       "    </tr>\n",
       "    <tr>\n",
       "      <th>13</th>\n",
       "      <td>pantry</td>\n",
       "    </tr>\n",
       "    <tr>\n",
       "      <th>14</th>\n",
       "      <td>breakfast</td>\n",
       "    </tr>\n",
       "    <tr>\n",
       "      <th>15</th>\n",
       "      <td>canned goods</td>\n",
       "    </tr>\n",
       "    <tr>\n",
       "      <th>16</th>\n",
       "      <td>dairy eggs</td>\n",
       "    </tr>\n",
       "    <tr>\n",
       "      <th>17</th>\n",
       "      <td>household</td>\n",
       "    </tr>\n",
       "    <tr>\n",
       "      <th>18</th>\n",
       "      <td>babies</td>\n",
       "    </tr>\n",
       "    <tr>\n",
       "      <th>19</th>\n",
       "      <td>snacks</td>\n",
       "    </tr>\n",
       "    <tr>\n",
       "      <th>20</th>\n",
       "      <td>deli</td>\n",
       "    </tr>\n",
       "    <tr>\n",
       "      <th>21</th>\n",
       "      <td>missing</td>\n",
       "    </tr>\n",
       "  </tbody>\n",
       "</table>\n",
       "</div>"
      ],
      "text/plain": [
       "                  0\n",
       "1            frozen\n",
       "2             other\n",
       "3            bakery\n",
       "4           produce\n",
       "5           alcohol\n",
       "6     international\n",
       "7         beverages\n",
       "8              pets\n",
       "9   dry goods pasta\n",
       "10             bulk\n",
       "11    personal care\n",
       "12     meat seafood\n",
       "13           pantry\n",
       "14        breakfast\n",
       "15     canned goods\n",
       "16       dairy eggs\n",
       "17        household\n",
       "18           babies\n",
       "19           snacks\n",
       "20             deli\n",
       "21          missing"
      ]
     },
     "execution_count": 37,
     "metadata": {},
     "output_type": "execute_result"
    }
   ],
   "source": [
    "df_dep_t_new"
   ]
  },
  {
   "cell_type": "code",
   "execution_count": 38,
   "id": "a88c5827",
   "metadata": {},
   "outputs": [],
   "source": [
    "df_dep_t_new.columns = new_header"
   ]
  },
  {
   "cell_type": "code",
   "execution_count": 39,
   "id": "50d1cd8c",
   "metadata": {},
   "outputs": [
    {
     "data": {
      "text/html": [
       "<div>\n",
       "<style scoped>\n",
       "    .dataframe tbody tr th:only-of-type {\n",
       "        vertical-align: middle;\n",
       "    }\n",
       "\n",
       "    .dataframe tbody tr th {\n",
       "        vertical-align: top;\n",
       "    }\n",
       "\n",
       "    .dataframe thead th {\n",
       "        text-align: right;\n",
       "    }\n",
       "</style>\n",
       "<table border=\"1\" class=\"dataframe\">\n",
       "  <thead>\n",
       "    <tr style=\"text-align: right;\">\n",
       "      <th>department_id</th>\n",
       "      <th>department</th>\n",
       "    </tr>\n",
       "  </thead>\n",
       "  <tbody>\n",
       "    <tr>\n",
       "      <th>1</th>\n",
       "      <td>frozen</td>\n",
       "    </tr>\n",
       "    <tr>\n",
       "      <th>2</th>\n",
       "      <td>other</td>\n",
       "    </tr>\n",
       "    <tr>\n",
       "      <th>3</th>\n",
       "      <td>bakery</td>\n",
       "    </tr>\n",
       "    <tr>\n",
       "      <th>4</th>\n",
       "      <td>produce</td>\n",
       "    </tr>\n",
       "    <tr>\n",
       "      <th>5</th>\n",
       "      <td>alcohol</td>\n",
       "    </tr>\n",
       "    <tr>\n",
       "      <th>6</th>\n",
       "      <td>international</td>\n",
       "    </tr>\n",
       "    <tr>\n",
       "      <th>7</th>\n",
       "      <td>beverages</td>\n",
       "    </tr>\n",
       "    <tr>\n",
       "      <th>8</th>\n",
       "      <td>pets</td>\n",
       "    </tr>\n",
       "    <tr>\n",
       "      <th>9</th>\n",
       "      <td>dry goods pasta</td>\n",
       "    </tr>\n",
       "    <tr>\n",
       "      <th>10</th>\n",
       "      <td>bulk</td>\n",
       "    </tr>\n",
       "    <tr>\n",
       "      <th>11</th>\n",
       "      <td>personal care</td>\n",
       "    </tr>\n",
       "    <tr>\n",
       "      <th>12</th>\n",
       "      <td>meat seafood</td>\n",
       "    </tr>\n",
       "    <tr>\n",
       "      <th>13</th>\n",
       "      <td>pantry</td>\n",
       "    </tr>\n",
       "    <tr>\n",
       "      <th>14</th>\n",
       "      <td>breakfast</td>\n",
       "    </tr>\n",
       "    <tr>\n",
       "      <th>15</th>\n",
       "      <td>canned goods</td>\n",
       "    </tr>\n",
       "    <tr>\n",
       "      <th>16</th>\n",
       "      <td>dairy eggs</td>\n",
       "    </tr>\n",
       "    <tr>\n",
       "      <th>17</th>\n",
       "      <td>household</td>\n",
       "    </tr>\n",
       "    <tr>\n",
       "      <th>18</th>\n",
       "      <td>babies</td>\n",
       "    </tr>\n",
       "    <tr>\n",
       "      <th>19</th>\n",
       "      <td>snacks</td>\n",
       "    </tr>\n",
       "    <tr>\n",
       "      <th>20</th>\n",
       "      <td>deli</td>\n",
       "    </tr>\n",
       "    <tr>\n",
       "      <th>21</th>\n",
       "      <td>missing</td>\n",
       "    </tr>\n",
       "  </tbody>\n",
       "</table>\n",
       "</div>"
      ],
      "text/plain": [
       "department_id       department\n",
       "1                       frozen\n",
       "2                        other\n",
       "3                       bakery\n",
       "4                      produce\n",
       "5                      alcohol\n",
       "6                international\n",
       "7                    beverages\n",
       "8                         pets\n",
       "9              dry goods pasta\n",
       "10                        bulk\n",
       "11               personal care\n",
       "12                meat seafood\n",
       "13                      pantry\n",
       "14                   breakfast\n",
       "15                canned goods\n",
       "16                  dairy eggs\n",
       "17                   household\n",
       "18                      babies\n",
       "19                      snacks\n",
       "20                        deli\n",
       "21                     missing"
      ]
     },
     "execution_count": 39,
     "metadata": {},
     "output_type": "execute_result"
    }
   ],
   "source": [
    "df_dep_t_new"
   ]
  },
  {
   "cell_type": "code",
   "execution_count": 40,
   "id": "1eb076fa",
   "metadata": {},
   "outputs": [],
   "source": [
    "# Creating a data dictionary\n",
    "data_dict = df_dep_t_new.to_dict('index')"
   ]
  },
  {
   "cell_type": "code",
   "execution_count": 41,
   "id": "e1716406",
   "metadata": {},
   "outputs": [
    {
     "data": {
      "text/plain": [
       "{'1': {'department': 'frozen'},\n",
       " '2': {'department': 'other'},\n",
       " '3': {'department': 'bakery'},\n",
       " '4': {'department': 'produce'},\n",
       " '5': {'department': 'alcohol'},\n",
       " '6': {'department': 'international'},\n",
       " '7': {'department': 'beverages'},\n",
       " '8': {'department': 'pets'},\n",
       " '9': {'department': 'dry goods pasta'},\n",
       " '10': {'department': 'bulk'},\n",
       " '11': {'department': 'personal care'},\n",
       " '12': {'department': 'meat seafood'},\n",
       " '13': {'department': 'pantry'},\n",
       " '14': {'department': 'breakfast'},\n",
       " '15': {'department': 'canned goods'},\n",
       " '16': {'department': 'dairy eggs'},\n",
       " '17': {'department': 'household'},\n",
       " '18': {'department': 'babies'},\n",
       " '19': {'department': 'snacks'},\n",
       " '20': {'department': 'deli'},\n",
       " '21': {'department': 'missing'}}"
      ]
     },
     "execution_count": 41,
     "metadata": {},
     "output_type": "execute_result"
    }
   ],
   "source": [
    "data_dict"
   ]
  },
  {
   "cell_type": "markdown",
   "id": "a51a0dd5",
   "metadata": {},
   "source": [
    "### 5.6 Comparing age profile by department"
   ]
  },
  {
   "cell_type": "code",
   "execution_count": 42,
   "id": "3a904941",
   "metadata": {},
   "outputs": [],
   "source": [
    "#Creating a crosstab of age and department\n",
    "crosstab_dept_age = pd.crosstab(index = df_combined['department_id'], columns = df_combined['age_profile'], normalize = 'index')"
   ]
  },
  {
   "cell_type": "code",
   "execution_count": 43,
   "id": "04e09efc",
   "metadata": {},
   "outputs": [
    {
     "data": {
      "image/png": "[encoded data removed]",
      "text/plain": [
       "<Figure size 640x480 with 1 Axes>"
      ]
     },
     "metadata": {},
     "output_type": "display_data"
    }
   ],
   "source": [
    "#Create a bar chart to visualize the relation between region and income groups\n",
    "\n",
    "dept_age = crosstab_dept_age.plot(kind = 'bar', stacked = True)\n",
    "plt.legend(loc = 'lower right', ncol = 4) \n",
    "plt.ylabel('Department', fontweight = 'bold')\n",
    "plt.title('Age Profile by Department', fontweight = 'bold')\n",
    "plt.show()"
   ]
  },
  {
   "cell_type": "code",
   "execution_count": 44,
   "id": "f5ee3831",
   "metadata": {},
   "outputs": [
    {
     "name": "stdout",
     "output_type": "stream",
     "text": [
      "{'department': 'produce'}\n"
     ]
    }
   ],
   "source": [
    "print(data_dict.get('4'))"
   ]
  },
  {
   "cell_type": "code",
   "execution_count": 45,
   "id": "186c6e21",
   "metadata": {},
   "outputs": [
    {
     "name": "stdout",
     "output_type": "stream",
     "text": [
      "{'department': 'dairy eggs'}\n"
     ]
    }
   ],
   "source": [
    "print(data_dict.get('16'))"
   ]
  },
  {
   "cell_type": "code",
   "execution_count": 46,
   "id": "2976b466",
   "metadata": {},
   "outputs": [
    {
     "name": "stdout",
     "output_type": "stream",
     "text": [
      "{'department': 'snacks'}\n"
     ]
    }
   ],
   "source": [
    "print(data_dict.get('19'))"
   ]
  },
  {
   "cell_type": "markdown",
   "id": "c343e071",
   "metadata": {},
   "source": [
    "Produce, dairy eggs and snacks are the most sought after departments. The customers are all proportionate across the age profiles."
   ]
  },
  {
   "cell_type": "code",
   "execution_count": 47,
   "id": "fc883916",
   "metadata": {},
   "outputs": [
    {
     "name": "stdout",
     "output_type": "stream",
     "text": [
      "{'department': 'frozen'}\n"
     ]
    }
   ],
   "source": [
    "print(data_dict.get('1'))"
   ]
  },
  {
   "cell_type": "code",
   "execution_count": 48,
   "id": "248ce325",
   "metadata": {},
   "outputs": [
    {
     "name": "stdout",
     "output_type": "stream",
     "text": [
      "{'department': 'beverages'}\n"
     ]
    }
   ],
   "source": [
    "print(data_dict.get('7'))"
   ]
  },
  {
   "cell_type": "markdown",
   "id": "d5a35410",
   "metadata": {},
   "source": [
    "## 6. Creating a profiling variable based on Income"
   ]
  },
  {
   "cell_type": "code",
   "execution_count": 49,
   "id": "386b427e",
   "metadata": {},
   "outputs": [],
   "source": [
    "# Creating an income_flag\n",
    "income_flag = []\n",
    "for value in df_combined['income']:\n",
    "    if value < 75000:\n",
    "        income_flag.append('Low-income')\n",
    "    elif value >= 75000 and value < 150000:\n",
    "        income_flag.append('Middle-income')\n",
    "    elif value >= 150000:\n",
    "        income_flag.append('High-income')\n",
    "    else:\n",
    "        print('Weird value:', row)"
   ]
  },
  {
   "cell_type": "code",
   "execution_count": 50,
   "id": "88138807",
   "metadata": {},
   "outputs": [],
   "source": [
    "# Creating an income_flag column\n",
    "df_combined['income_flag'] = income_flag"
   ]
  },
  {
   "cell_type": "code",
   "execution_count": 51,
   "id": "3403d0de",
   "metadata": {},
   "outputs": [
    {
     "data": {
      "text/plain": [
       "Middle-income    17910512\n",
       "Low-income       10442766\n",
       "High-income       4051581\n",
       "Name: income_flag, dtype: int64"
      ]
     },
     "execution_count": 51,
     "metadata": {},
     "output_type": "execute_result"
    }
   ],
   "source": [
    "# Checking the frequency of the income_flag\n",
    "df_combined['income_flag'].value_counts(dropna = False)"
   ]
  },
  {
   "cell_type": "markdown",
   "id": "2a0678a1",
   "metadata": {},
   "source": [
    "### 6.1 Creating a pie chart to show the distribution of Income"
   ]
  },
  {
   "cell_type": "code",
   "execution_count": 52,
   "id": "382cb4d4",
   "metadata": {},
   "outputs": [
    {
     "data": {
      "image/png": "[encoded data removed]",
      "text/plain": [
       "<Figure size 640x480 with 1 Axes>"
      ]
     },
     "metadata": {},
     "output_type": "display_data"
    }
   ],
   "source": [
    "#income profile pie chart\n",
    "income_profile_pie = df_combined['income_flag'].value_counts().plot.pie(title ='Income Profile', label = '', autopct=('%1.f%%'))"
   ]
  },
  {
   "cell_type": "markdown",
   "id": "59a6d039",
   "metadata": {},
   "source": [
    "### 6.2 Aggregating the max, mean, and min variables of the Income profile for usage frequency and expenditure"
   ]
  },
  {
   "cell_type": "code",
   "execution_count": 53,
   "id": "0f9fb9d5",
   "metadata": {},
   "outputs": [],
   "source": [
    "# income aggregation by expenditure and usage frequency\n",
    "income_agg = df_combined.groupby(['income_flag']).agg({'days_since_prior_order' : ['min', 'max', 'mean'], 'prices' : ['min', 'max', 'mean', 'sum']})"
   ]
  },
  {
   "cell_type": "code",
   "execution_count": 54,
   "id": "5e5c7f03",
   "metadata": {},
   "outputs": [
    {
     "data": {
      "text/html": [
       "<div>\n",
       "<style scoped>\n",
       "    .dataframe tbody tr th:only-of-type {\n",
       "        vertical-align: middle;\n",
       "    }\n",
       "\n",
       "    .dataframe tbody tr th {\n",
       "        vertical-align: top;\n",
       "    }\n",
       "\n",
       "    .dataframe thead tr th {\n",
       "        text-align: left;\n",
       "    }\n",
       "\n",
       "    .dataframe thead tr:last-of-type th {\n",
       "        text-align: right;\n",
       "    }\n",
       "</style>\n",
       "<table border=\"1\" class=\"dataframe\">\n",
       "  <thead>\n",
       "    <tr>\n",
       "      <th></th>\n",
       "      <th colspan=\"3\" halign=\"left\">days_since_prior_order</th>\n",
       "      <th colspan=\"4\" halign=\"left\">prices</th>\n",
       "    </tr>\n",
       "    <tr>\n",
       "      <th></th>\n",
       "      <th>min</th>\n",
       "      <th>max</th>\n",
       "      <th>mean</th>\n",
       "      <th>min</th>\n",
       "      <th>max</th>\n",
       "      <th>mean</th>\n",
       "      <th>sum</th>\n",
       "    </tr>\n",
       "    <tr>\n",
       "      <th>income_flag</th>\n",
       "      <th></th>\n",
       "      <th></th>\n",
       "      <th></th>\n",
       "      <th></th>\n",
       "      <th></th>\n",
       "      <th></th>\n",
       "      <th></th>\n",
       "    </tr>\n",
       "  </thead>\n",
       "  <tbody>\n",
       "    <tr>\n",
       "      <th>High-income</th>\n",
       "      <td>0.0</td>\n",
       "      <td>30.0</td>\n",
       "      <td>10.941393</td>\n",
       "      <td>1.0</td>\n",
       "      <td>25.0</td>\n",
       "      <td>7.941839</td>\n",
       "      <td>3.217700e+07</td>\n",
       "    </tr>\n",
       "    <tr>\n",
       "      <th>Low-income</th>\n",
       "      <td>0.0</td>\n",
       "      <td>30.0</td>\n",
       "      <td>11.240514</td>\n",
       "      <td>1.0</td>\n",
       "      <td>25.0</td>\n",
       "      <td>7.434725</td>\n",
       "      <td>7.763910e+07</td>\n",
       "    </tr>\n",
       "    <tr>\n",
       "      <th>Middle-income</th>\n",
       "      <td>0.0</td>\n",
       "      <td>30.0</td>\n",
       "      <td>11.061703</td>\n",
       "      <td>1.0</td>\n",
       "      <td>25.0</td>\n",
       "      <td>7.963122</td>\n",
       "      <td>1.426236e+08</td>\n",
       "    </tr>\n",
       "  </tbody>\n",
       "</table>\n",
       "</div>"
      ],
      "text/plain": [
       "              days_since_prior_order                  prices                  \\\n",
       "                                 min   max       mean    min   max      mean   \n",
       "income_flag                                                                    \n",
       "High-income                      0.0  30.0  10.941393    1.0  25.0  7.941839   \n",
       "Low-income                       0.0  30.0  11.240514    1.0  25.0  7.434725   \n",
       "Middle-income                    0.0  30.0  11.061703    1.0  25.0  7.963122   \n",
       "\n",
       "                             \n",
       "                        sum  \n",
       "income_flag                  \n",
       "High-income    3.217700e+07  \n",
       "Low-income     7.763910e+07  \n",
       "Middle-income  1.426236e+08  "
      ]
     },
     "execution_count": 54,
     "metadata": {},
     "output_type": "execute_result"
    }
   ],
   "source": [
    "income_agg"
   ]
  },
  {
   "cell_type": "markdown",
   "id": "a21253dd",
   "metadata": {},
   "source": [
    "### 6.3 Comparing Income profile by region"
   ]
  },
  {
   "cell_type": "markdown",
   "id": "44b9c145",
   "metadata": {},
   "source": [
    "The income_pie_chart shows that most customers have a middle-income (75,000-150,000)"
   ]
  },
  {
   "cell_type": "code",
   "execution_count": 55,
   "id": "11640487",
   "metadata": {},
   "outputs": [],
   "source": [
    "#Creating a crosstab of regions and income groups\n",
    "crosstab_region_income = pd.crosstab(index = df_combined['region'], columns = df_combined['income_flag'], normalize = 'index')"
   ]
  },
  {
   "cell_type": "code",
   "execution_count": 56,
   "id": "318d1f70",
   "metadata": {},
   "outputs": [
    {
     "data": {
      "image/png": "[encoded data removed]",
      "text/plain": [
       "<Figure size 640x480 with 1 Axes>"
      ]
     },
     "metadata": {},
     "output_type": "display_data"
    }
   ],
   "source": [
    "#Create a bar chart to visualize the relation between region and income groups\n",
    "\n",
    "region_income = crosstab_region_income.plot(kind = 'bar', stacked = True)\n",
    "plt.legend(loc = 'lower right', ncol = 4) \n",
    "plt.title('Income by Region', fontweight = 'bold')\n",
    "plt.show()"
   ]
  },
  {
   "cell_type": "markdown",
   "id": "ccbde43d",
   "metadata": {},
   "source": [
    "### 6.4 Comparing Income profile by department_id"
   ]
  },
  {
   "cell_type": "code",
   "execution_count": 57,
   "id": "169a2d8c",
   "metadata": {},
   "outputs": [],
   "source": [
    "# create a crosstab of department and income\n",
    "crosstab_dept_income = pd.crosstab(df_combined['department_id'], df_combined['income_flag'], normalize = 'index')"
   ]
  },
  {
   "cell_type": "code",
   "execution_count": 58,
   "id": "fc843ef1",
   "metadata": {},
   "outputs": [
    {
     "data": {
      "image/png": "[encoded data removed]",
      "text/plain": [
       "<Figure size 640x480 with 1 Axes>"
      ]
     },
     "metadata": {},
     "output_type": "display_data"
    }
   ],
   "source": [
    "# stacked bar chart of department broken down by income group\n",
    "dept_income = crosstab_dept_income.plot(kind = 'barh', stacked = True, color = sns.color_palette('Blues', 3))\n",
    "plt.legend(loc='lower right')\n",
    "plt.ylabel('Department', fontweight = 'bold')\n",
    "plt.title('Income by Department', fontweight = 'bold')\n",
    "plt.show()\n"
   ]
  },
  {
   "cell_type": "code",
   "execution_count": 59,
   "id": "a14ddbba",
   "metadata": {},
   "outputs": [
    {
     "name": "stdout",
     "output_type": "stream",
     "text": [
      "{'department': 'produce'}\n",
      "{'department': 'dairy eggs'}\n",
      "{'department': 'snacks'}\n"
     ]
    }
   ],
   "source": [
    "print(data_dict.get('4'))\n",
    "print(data_dict.get('16'))\n",
    "print(data_dict.get('19'))"
   ]
  },
  {
   "cell_type": "markdown",
   "id": "7490525c",
   "metadata": {},
   "source": [
    "## 7. Creating a profiling variable based on number of dependants"
   ]
  },
  {
   "cell_type": "markdown",
   "id": "71861bf5",
   "metadata": {},
   "source": [
    "Creating the 'family_profile' based on the following:\n",
    "\n",
    "18-40  with dependants \t\tYoung with children\n",
    "\n",
    "18-40 with no dependants\tYoung, no children\n",
    "\n",
    "40-60 with dependants\t\tMiddle-aged with children\n",
    "\n",
    "40-60 with no dependants\tMiddle-aged, no children\n",
    "\n",
    "60 + with dependants\t\tElderly with children\n",
    "\n",
    "60+ with no dependants\t\tElderly, no children"
   ]
  },
  {
   "cell_type": "code",
   "execution_count": 60,
   "id": "45dd91d8",
   "metadata": {},
   "outputs": [],
   "source": [
    "df_combined.loc[(df_combined['age_profile'] == '18-40') & (df_combined['number_of_dependants'] >= 1), 'family_profile'] = 'Young with children'\n"
   ]
  },
  {
   "cell_type": "code",
   "execution_count": 61,
   "id": "151f00e9",
   "metadata": {},
   "outputs": [],
   "source": [
    "df_combined.loc[(df_combined['age_profile'] == '40-60') & (df_combined['number_of_dependants'] >= 1), 'family_profile'] = 'Middle-aged with children'"
   ]
  },
  {
   "cell_type": "code",
   "execution_count": 62,
   "id": "1c3ba279",
   "metadata": {},
   "outputs": [],
   "source": [
    "df_combined.loc[(df_combined['age_profile'] == '60+') & (df_combined['number_of_dependants'] >= 1), 'family_profile'] = 'Elderly with children'"
   ]
  },
  {
   "cell_type": "code",
   "execution_count": 63,
   "id": "1fa0b436",
   "metadata": {},
   "outputs": [],
   "source": [
    "df_combined.loc[(df_combined['age_profile'] == '18-40') & (df_combined['number_of_dependants'] == 0), 'family_profile'] = 'Young, no children'"
   ]
  },
  {
   "cell_type": "code",
   "execution_count": 64,
   "id": "f5ad37ec",
   "metadata": {},
   "outputs": [],
   "source": [
    "df_combined.loc[(df_combined['age_profile'] == '40-60') & (df_combined['number_of_dependants'] == 0), 'family_profile'] = 'Middle-aged, no children'"
   ]
  },
  {
   "cell_type": "code",
   "execution_count": 65,
   "id": "63bf66eb",
   "metadata": {},
   "outputs": [],
   "source": [
    "df_combined.loc[(df_combined['age_profile'] == '60+') & (df_combined['number_of_dependants'] == 0), 'family_profile'] = 'Elderly, no children'"
   ]
  },
  {
   "cell_type": "code",
   "execution_count": 66,
   "id": "8d4974ee",
   "metadata": {},
   "outputs": [
    {
     "data": {
      "text/plain": [
       "Young with children          8763439\n",
       "Elderly with children        7928248\n",
       "Middle-aged with children    7615669\n",
       "Young, no children           2906607\n",
       "Elderly, no children         2654591\n",
       "Middle-aged, no children     2536305\n",
       "Name: family_profile, dtype: int64"
      ]
     },
     "execution_count": 66,
     "metadata": {},
     "output_type": "execute_result"
    }
   ],
   "source": [
    "df_combined['family_profile'].value_counts(dropna = False)"
   ]
  },
  {
   "cell_type": "markdown",
   "id": "a06b4853",
   "metadata": {},
   "source": [
    "### 7.1 Creating visualisations to show the distribution of number of dependants"
   ]
  },
  {
   "cell_type": "code",
   "execution_count": 67,
   "id": "298ee3bc",
   "metadata": {},
   "outputs": [
    {
     "data": {
      "image/png": "[encoded data removed]",
      "text/plain": [
       "<Figure size 640x480 with 1 Axes>"
      ]
     },
     "metadata": {},
     "output_type": "display_data"
    }
   ],
   "source": [
    "#Family status pie chart\n",
    "family_profile_pie = df_combined['family_profile'].value_counts().plot.pie(title = 'Family Profile', label = '', autopct = ('%1.f%%'))"
   ]
  },
  {
   "cell_type": "code",
   "execution_count": 68,
   "id": "73fc3cb4",
   "metadata": {},
   "outputs": [
    {
     "data": {
      "image/png": "[encoded data removed]",
      "text/plain": [
       "<Figure size 640x480 with 1 Axes>"
      ]
     },
     "metadata": {},
     "output_type": "display_data"
    }
   ],
   "source": [
    "bar_family = df_combined['family_profile'].value_counts().plot.bar(color =['blue', 'royalblue', 'cornflowerblue', 'mediumslateblue', 'mediumpurple', 'lightsteelblue'])"
   ]
  },
  {
   "cell_type": "markdown",
   "id": "41e6c783",
   "metadata": {},
   "source": [
    "### 7.2 Aggregating the max, mean, and min variables of the dependants profile for usage frequency and expenditure"
   ]
  },
  {
   "cell_type": "code",
   "execution_count": 69,
   "id": "e5eb2fea",
   "metadata": {},
   "outputs": [],
   "source": [
    "# family status aggregations for expenditure and usage frequency\n",
    "family_agg = df_combined.groupby(['family_profile']).agg({'days_since_prior_order' : ['min', 'max', 'mean'], 'prices' : ['min', 'max', 'mean', 'sum']})"
   ]
  },
  {
   "cell_type": "code",
   "execution_count": 70,
   "id": "b580d95f",
   "metadata": {},
   "outputs": [
    {
     "data": {
      "text/html": [
       "<div>\n",
       "<style scoped>\n",
       "    .dataframe tbody tr th:only-of-type {\n",
       "        vertical-align: middle;\n",
       "    }\n",
       "\n",
       "    .dataframe tbody tr th {\n",
       "        vertical-align: top;\n",
       "    }\n",
       "\n",
       "    .dataframe thead tr th {\n",
       "        text-align: left;\n",
       "    }\n",
       "\n",
       "    .dataframe thead tr:last-of-type th {\n",
       "        text-align: right;\n",
       "    }\n",
       "</style>\n",
       "<table border=\"1\" class=\"dataframe\">\n",
       "  <thead>\n",
       "    <tr>\n",
       "      <th></th>\n",
       "      <th colspan=\"3\" halign=\"left\">days_since_prior_order</th>\n",
       "      <th colspan=\"4\" halign=\"left\">prices</th>\n",
       "    </tr>\n",
       "    <tr>\n",
       "      <th></th>\n",
       "      <th>min</th>\n",
       "      <th>max</th>\n",
       "      <th>mean</th>\n",
       "      <th>min</th>\n",
       "      <th>max</th>\n",
       "      <th>mean</th>\n",
       "      <th>sum</th>\n",
       "    </tr>\n",
       "    <tr>\n",
       "      <th>family_profile</th>\n",
       "      <th></th>\n",
       "      <th></th>\n",
       "      <th></th>\n",
       "      <th></th>\n",
       "      <th></th>\n",
       "      <th></th>\n",
       "      <th></th>\n",
       "    </tr>\n",
       "  </thead>\n",
       "  <tbody>\n",
       "    <tr>\n",
       "      <th>Elderly with children</th>\n",
       "      <td>0.0</td>\n",
       "      <td>30.0</td>\n",
       "      <td>11.097943</td>\n",
       "      <td>1.0</td>\n",
       "      <td>25.0</td>\n",
       "      <td>7.794163</td>\n",
       "      <td>61794058.53</td>\n",
       "    </tr>\n",
       "    <tr>\n",
       "      <th>Elderly, no children</th>\n",
       "      <td>0.0</td>\n",
       "      <td>30.0</td>\n",
       "      <td>11.039576</td>\n",
       "      <td>1.0</td>\n",
       "      <td>25.0</td>\n",
       "      <td>7.798087</td>\n",
       "      <td>20700732.59</td>\n",
       "    </tr>\n",
       "    <tr>\n",
       "      <th>Middle-aged with children</th>\n",
       "      <td>0.0</td>\n",
       "      <td>30.0</td>\n",
       "      <td>11.156713</td>\n",
       "      <td>1.0</td>\n",
       "      <td>25.0</td>\n",
       "      <td>7.789852</td>\n",
       "      <td>59324932.88</td>\n",
       "    </tr>\n",
       "    <tr>\n",
       "      <th>Middle-aged, no children</th>\n",
       "      <td>0.0</td>\n",
       "      <td>30.0</td>\n",
       "      <td>11.006523</td>\n",
       "      <td>1.0</td>\n",
       "      <td>25.0</td>\n",
       "      <td>7.790794</td>\n",
       "      <td>19759829.00</td>\n",
       "    </tr>\n",
       "    <tr>\n",
       "      <th>Young with children</th>\n",
       "      <td>0.0</td>\n",
       "      <td>30.0</td>\n",
       "      <td>11.085407</td>\n",
       "      <td>1.0</td>\n",
       "      <td>25.0</td>\n",
       "      <td>7.787743</td>\n",
       "      <td>68247412.60</td>\n",
       "    </tr>\n",
       "    <tr>\n",
       "      <th>Young, no children</th>\n",
       "      <td>0.0</td>\n",
       "      <td>30.0</td>\n",
       "      <td>11.183338</td>\n",
       "      <td>1.0</td>\n",
       "      <td>25.0</td>\n",
       "      <td>7.779768</td>\n",
       "      <td>22612727.23</td>\n",
       "    </tr>\n",
       "  </tbody>\n",
       "</table>\n",
       "</div>"
      ],
      "text/plain": [
       "                          days_since_prior_order                  prices  \\\n",
       "                                             min   max       mean    min   \n",
       "family_profile                                                             \n",
       "Elderly with children                        0.0  30.0  11.097943    1.0   \n",
       "Elderly, no children                         0.0  30.0  11.039576    1.0   \n",
       "Middle-aged with children                    0.0  30.0  11.156713    1.0   \n",
       "Middle-aged, no children                     0.0  30.0  11.006523    1.0   \n",
       "Young with children                          0.0  30.0  11.085407    1.0   \n",
       "Young, no children                           0.0  30.0  11.183338    1.0   \n",
       "\n",
       "                                                        \n",
       "                            max      mean          sum  \n",
       "family_profile                                          \n",
       "Elderly with children      25.0  7.794163  61794058.53  \n",
       "Elderly, no children       25.0  7.798087  20700732.59  \n",
       "Middle-aged with children  25.0  7.789852  59324932.88  \n",
       "Middle-aged, no children   25.0  7.790794  19759829.00  \n",
       "Young with children        25.0  7.787743  68247412.60  \n",
       "Young, no children         25.0  7.779768  22612727.23  "
      ]
     },
     "execution_count": 70,
     "metadata": {},
     "output_type": "execute_result"
    }
   ],
   "source": [
    "family_agg"
   ]
  },
  {
   "cell_type": "code",
   "execution_count": 71,
   "id": "6c3faf04",
   "metadata": {},
   "outputs": [],
   "source": [
    "# Since there is a huge difference between those with dependants and those without, I am creating a column for dependant_status to see if there are changes across region and departments\n",
    "df_combined.loc[df_combined['number_of_dependants'] >= 1, 'dependant_status'] = 'with children'"
   ]
  },
  {
   "cell_type": "code",
   "execution_count": 72,
   "id": "3293933a",
   "metadata": {},
   "outputs": [],
   "source": [
    "df_combined.loc[df_combined['number_of_dependants'] == 0, 'dependant_status'] = 'no children'"
   ]
  },
  {
   "cell_type": "code",
   "execution_count": 73,
   "id": "b5eb18d3",
   "metadata": {},
   "outputs": [
    {
     "data": {
      "text/plain": [
       "with children    24307356\n",
       "no children       8097503\n",
       "Name: dependant_status, dtype: int64"
      ]
     },
     "execution_count": 73,
     "metadata": {},
     "output_type": "execute_result"
    }
   ],
   "source": [
    "df_combined['dependant_status'].value_counts(dropna = False)"
   ]
  },
  {
   "cell_type": "markdown",
   "id": "cd239586",
   "metadata": {},
   "source": [
    "### 7.3 Comparing dependants profile by region"
   ]
  },
  {
   "cell_type": "code",
   "execution_count": 74,
   "id": "a92247a8",
   "metadata": {},
   "outputs": [],
   "source": [
    "#Creating a crosstab of families and regions\n",
    "crosstab_region_dependants = pd.crosstab(index = df_combined['region'], columns = df_combined['dependant_status'], normalize = 'index')"
   ]
  },
  {
   "cell_type": "code",
   "execution_count": 75,
   "id": "9bddb01f",
   "metadata": {},
   "outputs": [
    {
     "data": {
      "image/png": "[encoded data removed]",
      "text/plain": [
       "<Figure size 640x480 with 1 Axes>"
      ]
     },
     "metadata": {},
     "output_type": "display_data"
    }
   ],
   "source": [
    "#Create a bar chart to visualize the relation between dependant status across regions\n",
    "\n",
    "region_dependants = crosstab_region_dependants.plot(kind = 'bar', stacked = True)\n",
    "plt.legend(loc = 'lower right', ncol = 4) \n",
    "plt.title('Dependant status by Region', fontweight = 'bold')\n",
    "plt.show()"
   ]
  },
  {
   "cell_type": "markdown",
   "id": "cf3637c2",
   "metadata": {},
   "source": [
    "### 7.4 Comparing dependants by department_id"
   ]
  },
  {
   "cell_type": "markdown",
   "id": "0fd0b450",
   "metadata": {},
   "source": [
    "Most customer have dependants across all regions with the South reporting the most and the Northeast reporting the least."
   ]
  },
  {
   "cell_type": "code",
   "execution_count": 76,
   "id": "ef2b82d8",
   "metadata": {},
   "outputs": [],
   "source": [
    "#crosstab of dependant status and department\n",
    "crosstab_department_dependants = pd.crosstab(df_combined['department_id'], df_combined['dependant_status'], normalize = 'index')"
   ]
  },
  {
   "cell_type": "code",
   "execution_count": 77,
   "id": "f1f97502",
   "metadata": {},
   "outputs": [
    {
     "data": {
      "image/png": "[encoded data removed]",
      "text/plain": [
       "<Figure size 640x480 with 1 Axes>"
      ]
     },
     "metadata": {},
     "output_type": "display_data"
    }
   ],
   "source": [
    "#stacked bar chart of family profiles by department\n",
    "department_dependants = crosstab_department_dependants.plot(kind = 'barh', stacked = True, color = sns.color_palette('Purples', 2))\n",
    "plt.legend(loc='lower right')\n",
    "plt.ylabel('Department', fontweight = 'bold')\n",
    "plt.title('Dependants by Department', fontweight = 'bold')\n",
    "plt.show()"
   ]
  },
  {
   "cell_type": "code",
   "execution_count": 78,
   "id": "0859930b",
   "metadata": {},
   "outputs": [
    {
     "name": "stdout",
     "output_type": "stream",
     "text": [
      "{'department': 'produce'}\n",
      "{'department': 'dairy eggs'}\n",
      "{'department': 'snacks'}\n",
      "{'department': 'frozen'}\n",
      "{'department': 'beverages'}\n"
     ]
    }
   ],
   "source": [
    "print(data_dict.get('4'))\n",
    "print(data_dict.get('16'))\n",
    "print(data_dict.get('19'))\n",
    "print(data_dict.get('1'))\n",
    "print(data_dict.get('7'))"
   ]
  },
  {
   "cell_type": "markdown",
   "id": "62d93071",
   "metadata": {},
   "source": [
    "## 8. Checking order frequencies by Region"
   ]
  },
  {
   "cell_type": "code",
   "execution_count": 79,
   "id": "5ac60253",
   "metadata": {},
   "outputs": [
    {
     "data": {
      "text/plain": [
       "South        10791885\n",
       "West          8292913\n",
       "Midwest       7597325\n",
       "Northeast     5722736\n",
       "Name: region, dtype: int64"
      ]
     },
     "execution_count": 79,
     "metadata": {},
     "output_type": "execute_result"
    }
   ],
   "source": [
    "# Looking at the frequency of customer orders by region\n",
    "df_combined['region'].value_counts(dropna = False)"
   ]
  },
  {
   "cell_type": "markdown",
   "id": "e9a956a2",
   "metadata": {},
   "source": [
    "### 8.1 Creating a bar chart to show the number of orders by region"
   ]
  },
  {
   "cell_type": "code",
   "execution_count": 80,
   "id": "27e8bfe7",
   "metadata": {},
   "outputs": [
    {
     "data": {
      "image/png": "[encoded data removed]",
      "text/plain": [
       "<Figure size 640x480 with 1 Axes>"
      ]
     },
     "metadata": {},
     "output_type": "display_data"
    }
   ],
   "source": [
    "# Creating a bar chart to show the  number of orders by regions\n",
    "region_orders_count = df_combined['region'].value_counts(dropna=False)\n",
    "region_orders = region_orders_count.plot.bar()\n",
    "plt.title('Number of Orders by Region', fontweight='bold')\n",
    "plt.xlabel('Region')\n",
    "plt.ylabel('Number of Orders')\n",
    "plt.show()"
   ]
  },
  {
   "cell_type": "markdown",
   "id": "e9f3440c",
   "metadata": {},
   "source": [
    "## 9. Creating a bar chart to show the busiest department by orders at 11am"
   ]
  },
  {
   "cell_type": "code",
   "execution_count": 81,
   "id": "b9e99a9d",
   "metadata": {},
   "outputs": [],
   "source": [
    "# Looking at the departments frequency during the busiest hour\n",
    "busiest_hour_department = df_combined[df_combined['order_hour_of_day'] == 11]"
   ]
  },
  {
   "cell_type": "code",
   "execution_count": 82,
   "id": "3cf62fc5",
   "metadata": {},
   "outputs": [],
   "source": [
    "department_orders = busiest_hour_department['department_id'].value_counts(dropna=False)"
   ]
  },
  {
   "cell_type": "code",
   "execution_count": 83,
   "id": "6ced58dc",
   "metadata": {},
   "outputs": [
    {
     "data": {
      "image/png": "[encoded data removed]",
      "text/plain": [
       "<Figure size 640x480 with 1 Axes>"
      ]
     },
     "metadata": {},
     "output_type": "display_data"
    }
   ],
   "source": [
    "# Creating a bar chart to show the busiest department by orders at 11am.\n",
    "busiest_department = department_orders.plot.bar()\n",
    "plt.title('Department Orders at Busiest Hour of Day', fontweight='bold')\n",
    "plt.xlabel('Department')\n",
    "plt.ylabel('Number of Orders')\n",
    "plt.show()"
   ]
  },
  {
   "cell_type": "markdown",
   "id": "cea0a2c0",
   "metadata": {},
   "source": [
    "## 10. Creating a pie chart to show the price_range_loc on spending"
   ]
  },
  {
   "cell_type": "code",
   "execution_count": 84,
   "id": "d028f58f",
   "metadata": {},
   "outputs": [
    {
     "data": {
      "text/plain": [
       "Mid-range product     21861558\n",
       "Low-range product     10130750\n",
       "High-range product      412551\n",
       "Name: price_range_loc, dtype: int64"
      ]
     },
     "execution_count": 84,
     "metadata": {},
     "output_type": "execute_result"
    }
   ],
   "source": [
    "# Looking at the frequency of price range products\n",
    "df_combined['price_range_loc'].value_counts(dropna = False)"
   ]
  },
  {
   "cell_type": "code",
   "execution_count": 85,
   "id": "e588d42c",
   "metadata": {},
   "outputs": [
    {
     "data": {
      "image/png": "[encoded data removed]",
      "text/plain": [
       "<Figure size 640x480 with 1 Axes>"
      ]
     },
     "metadata": {},
     "output_type": "display_data"
    }
   ],
   "source": [
    "# Creating a pie chart on price_range_loc on spending\n",
    "price_range_pie = df_combined['price_range_loc'].value_counts(dropna = False).plot.pie(title = 'Price_range', label = '', autopct = ('%1.f%%'))"
   ]
  },
  {
   "cell_type": "markdown",
   "id": "31e6dc7a",
   "metadata": {},
   "source": [
    "Most customers purchase mid-range products and very few purchase from the high-range products."
   ]
  },
  {
   "cell_type": "markdown",
   "id": "1d4e15dd",
   "metadata": {},
   "source": [
    "## 10. Exporting Visualisations"
   ]
  },
  {
   "cell_type": "code",
   "execution_count": 86,
   "id": "6d051f34",
   "metadata": {},
   "outputs": [],
   "source": [
    "path = r'C:\\Users\\User 1\\Documents\\Instacart Basket Analysis 04-2023'"
   ]
  },
  {
   "cell_type": "code",
   "execution_count": 87,
   "id": "4fcde241",
   "metadata": {},
   "outputs": [],
   "source": [
    "# Exporting age_pie_chart\n",
    "age_profile_pie.figure.savefig(os.path.join(path, '04 Analysis', 'Visualisations', 'age_profile_pie_chart.png'))"
   ]
  },
  {
   "cell_type": "code",
   "execution_count": 88,
   "id": "1acf59db",
   "metadata": {},
   "outputs": [],
   "source": [
    "# Exporting region_age_stck_bar_chart\n",
    "bar_age_region.figure.savefig(os.path.join(path, '04 Analysis', 'Visualisations', 'region_age.stck_bar.png'))"
   ]
  },
  {
   "cell_type": "code",
   "execution_count": 89,
   "id": "83d12b08",
   "metadata": {},
   "outputs": [],
   "source": [
    "# Exporting dept_age_stck_bar_chart\n",
    "dept_age.figure.savefig(os.path.join(path, '04 Analysis', 'Visualisations', 'dept_age_stck_bar.png'))"
   ]
  },
  {
   "cell_type": "code",
   "execution_count": 90,
   "id": "28d46981",
   "metadata": {},
   "outputs": [],
   "source": [
    "# Exporting income_profile_pie_chart\n",
    "income_profile_pie.figure.savefig(os.path.join(path, '04 Analysis', 'Visualisations', 'income_profile_pie.png'))"
   ]
  },
  {
   "cell_type": "code",
   "execution_count": 91,
   "id": "8de0dfcd",
   "metadata": {},
   "outputs": [],
   "source": [
    "# Exporting region_income bar_chart\n",
    "region_income.figure.savefig(os.path.join(path, '04 Analysis', 'Visualisations', 'region_income_bar.png'))"
   ]
  },
  {
   "cell_type": "code",
   "execution_count": 92,
   "id": "9670f043",
   "metadata": {},
   "outputs": [],
   "source": [
    "# Exporting dept_income_stck_bar_chart\n",
    "dept_income.figure.savefig(os.path.join(path, '04 Analysis', 'Visualisations', 'dept_income_stck_bar.png'))"
   ]
  },
  {
   "cell_type": "code",
   "execution_count": 93,
   "id": "aa99b65f",
   "metadata": {},
   "outputs": [],
   "source": [
    "# Exporting family_profile_pie_chart\n",
    "family_profile_pie.figure.savefig(os.path.join(path, '04 Analysis', 'Visualisations', 'family_profile_pie.png'))"
   ]
  },
  {
   "cell_type": "code",
   "execution_count": 94,
   "id": "1eca3145",
   "metadata": {},
   "outputs": [],
   "source": [
    "# Exporting bar_family\n",
    "bar_family.figure.savefig(os.path.join(path, '04 Analysis', 'Visualisations', 'bar_family.png'))"
   ]
  },
  {
   "cell_type": "code",
   "execution_count": 95,
   "id": "3d12a1ae",
   "metadata": {},
   "outputs": [],
   "source": [
    "# Exporting region_dependants_bar\n",
    "region_dependants.figure.savefig(os.path.join(path, '04 Analysis', 'Visualisations', 'region_dependants_bar.png'))"
   ]
  },
  {
   "cell_type": "code",
   "execution_count": 96,
   "id": "bf1036cc",
   "metadata": {},
   "outputs": [],
   "source": [
    "# Exporting department_dependants_stck_bar\n",
    "department_dependants.figure.savefig(os.path.join(path, '04 Analysis', 'Visualisations', 'department_dependants_stck_bar.png'))"
   ]
  },
  {
   "cell_type": "code",
   "execution_count": 97,
   "id": "7d1aecfb",
   "metadata": {},
   "outputs": [],
   "source": [
    "# Exporting region_orders_count_bar_chart\n",
    "region_orders.figure.savefig(os.path.join(path, '04 Analysis', 'Visualisations', 'region_orders_bar.png'))"
   ]
  },
  {
   "cell_type": "code",
   "execution_count": 98,
   "id": "fcc7e8cf",
   "metadata": {},
   "outputs": [],
   "source": [
    "# Exporting busiest_department_bar_chart\n",
    "busiest_department.figure.savefig(os.path.join(path, '04 Analysis', 'Visualisations', 'busiest_department_bar.png'))"
   ]
  },
  {
   "cell_type": "code",
   "execution_count": 99,
   "id": "20be387a",
   "metadata": {},
   "outputs": [],
   "source": [
    "# Exporting price_range_pie_chart\n",
    "price_range_pie.figure.savefig(os.path.join(path, '04 Analysis', 'Visualisations', 'price_range_pie.png'))"
   ]
  },
  {
   "cell_type": "code",
   "execution_count": 100,
   "id": "c06ab8e3",
   "metadata": {},
   "outputs": [
    {
     "data": {
      "text/html": [
       "<div>\n",
       "<style scoped>\n",
       "    .dataframe tbody tr th:only-of-type {\n",
       "        vertical-align: middle;\n",
       "    }\n",
       "\n",
       "    .dataframe tbody tr th {\n",
       "        vertical-align: top;\n",
       "    }\n",
       "\n",
       "    .dataframe thead th {\n",
       "        text-align: right;\n",
       "    }\n",
       "</style>\n",
       "<table border=\"1\" class=\"dataframe\">\n",
       "  <thead>\n",
       "    <tr style=\"text-align: right;\">\n",
       "      <th></th>\n",
       "      <th>user_id</th>\n",
       "      <th>gender</th>\n",
       "      <th>state</th>\n",
       "      <th>age</th>\n",
       "      <th>date_joined</th>\n",
       "      <th>number_of_dependants</th>\n",
       "      <th>family_status</th>\n",
       "      <th>income</th>\n",
       "      <th>order_id</th>\n",
       "      <th>order_number</th>\n",
       "      <th>...</th>\n",
       "      <th>avg_price</th>\n",
       "      <th>spending_flag</th>\n",
       "      <th>median_frequency</th>\n",
       "      <th>order_frequency_flag</th>\n",
       "      <th>region</th>\n",
       "      <th>activity_flag</th>\n",
       "      <th>age_profile</th>\n",
       "      <th>income_flag</th>\n",
       "      <th>family_profile</th>\n",
       "      <th>dependant_status</th>\n",
       "    </tr>\n",
       "  </thead>\n",
       "  <tbody>\n",
       "    <tr>\n",
       "      <th>0</th>\n",
       "      <td>26711</td>\n",
       "      <td>Female</td>\n",
       "      <td>Missouri</td>\n",
       "      <td>48</td>\n",
       "      <td>1/1/2017</td>\n",
       "      <td>3</td>\n",
       "      <td>married</td>\n",
       "      <td>165665</td>\n",
       "      <td>2543867</td>\n",
       "      <td>5</td>\n",
       "      <td>...</td>\n",
       "      <td>7.988889</td>\n",
       "      <td>Low spender</td>\n",
       "      <td>19.0</td>\n",
       "      <td>Regular customer</td>\n",
       "      <td>Midwest</td>\n",
       "      <td>active</td>\n",
       "      <td>40-60</td>\n",
       "      <td>High-income</td>\n",
       "      <td>Middle-aged with children</td>\n",
       "      <td>with children</td>\n",
       "    </tr>\n",
       "    <tr>\n",
       "      <th>1</th>\n",
       "      <td>26711</td>\n",
       "      <td>Female</td>\n",
       "      <td>Missouri</td>\n",
       "      <td>48</td>\n",
       "      <td>1/1/2017</td>\n",
       "      <td>3</td>\n",
       "      <td>married</td>\n",
       "      <td>165665</td>\n",
       "      <td>1285508</td>\n",
       "      <td>7</td>\n",
       "      <td>...</td>\n",
       "      <td>7.988889</td>\n",
       "      <td>Low spender</td>\n",
       "      <td>19.0</td>\n",
       "      <td>Regular customer</td>\n",
       "      <td>Midwest</td>\n",
       "      <td>active</td>\n",
       "      <td>40-60</td>\n",
       "      <td>High-income</td>\n",
       "      <td>Middle-aged with children</td>\n",
       "      <td>with children</td>\n",
       "    </tr>\n",
       "    <tr>\n",
       "      <th>2</th>\n",
       "      <td>26711</td>\n",
       "      <td>Female</td>\n",
       "      <td>Missouri</td>\n",
       "      <td>48</td>\n",
       "      <td>1/1/2017</td>\n",
       "      <td>3</td>\n",
       "      <td>married</td>\n",
       "      <td>165665</td>\n",
       "      <td>2578584</td>\n",
       "      <td>8</td>\n",
       "      <td>...</td>\n",
       "      <td>7.988889</td>\n",
       "      <td>Low spender</td>\n",
       "      <td>19.0</td>\n",
       "      <td>Regular customer</td>\n",
       "      <td>Midwest</td>\n",
       "      <td>active</td>\n",
       "      <td>40-60</td>\n",
       "      <td>High-income</td>\n",
       "      <td>Middle-aged with children</td>\n",
       "      <td>with children</td>\n",
       "    </tr>\n",
       "    <tr>\n",
       "      <th>3</th>\n",
       "      <td>26711</td>\n",
       "      <td>Female</td>\n",
       "      <td>Missouri</td>\n",
       "      <td>48</td>\n",
       "      <td>1/1/2017</td>\n",
       "      <td>3</td>\n",
       "      <td>married</td>\n",
       "      <td>165665</td>\n",
       "      <td>423547</td>\n",
       "      <td>2</td>\n",
       "      <td>...</td>\n",
       "      <td>7.988889</td>\n",
       "      <td>Low spender</td>\n",
       "      <td>19.0</td>\n",
       "      <td>Regular customer</td>\n",
       "      <td>Midwest</td>\n",
       "      <td>active</td>\n",
       "      <td>40-60</td>\n",
       "      <td>High-income</td>\n",
       "      <td>Middle-aged with children</td>\n",
       "      <td>with children</td>\n",
       "    </tr>\n",
       "    <tr>\n",
       "      <th>4</th>\n",
       "      <td>26711</td>\n",
       "      <td>Female</td>\n",
       "      <td>Missouri</td>\n",
       "      <td>48</td>\n",
       "      <td>1/1/2017</td>\n",
       "      <td>3</td>\n",
       "      <td>married</td>\n",
       "      <td>165665</td>\n",
       "      <td>2524893</td>\n",
       "      <td>3</td>\n",
       "      <td>...</td>\n",
       "      <td>7.988889</td>\n",
       "      <td>Low spender</td>\n",
       "      <td>19.0</td>\n",
       "      <td>Regular customer</td>\n",
       "      <td>Midwest</td>\n",
       "      <td>active</td>\n",
       "      <td>40-60</td>\n",
       "      <td>High-income</td>\n",
       "      <td>Middle-aged with children</td>\n",
       "      <td>with children</td>\n",
       "    </tr>\n",
       "  </tbody>\n",
       "</table>\n",
       "<p>5 rows × 37 columns</p>\n",
       "</div>"
      ],
      "text/plain": [
       "   user_id  gender     state  age date_joined  number_of_dependants  \\\n",
       "0    26711  Female  Missouri   48    1/1/2017                     3   \n",
       "1    26711  Female  Missouri   48    1/1/2017                     3   \n",
       "2    26711  Female  Missouri   48    1/1/2017                     3   \n",
       "3    26711  Female  Missouri   48    1/1/2017                     3   \n",
       "4    26711  Female  Missouri   48    1/1/2017                     3   \n",
       "\n",
       "  family_status  income  order_id  order_number  ...  avg_price  \\\n",
       "0       married  165665   2543867             5  ...   7.988889   \n",
       "1       married  165665   1285508             7  ...   7.988889   \n",
       "2       married  165665   2578584             8  ...   7.988889   \n",
       "3       married  165665    423547             2  ...   7.988889   \n",
       "4       married  165665   2524893             3  ...   7.988889   \n",
       "\n",
       "   spending_flag  median_frequency  order_frequency_flag   region  \\\n",
       "0    Low spender              19.0      Regular customer  Midwest   \n",
       "1    Low spender              19.0      Regular customer  Midwest   \n",
       "2    Low spender              19.0      Regular customer  Midwest   \n",
       "3    Low spender              19.0      Regular customer  Midwest   \n",
       "4    Low spender              19.0      Regular customer  Midwest   \n",
       "\n",
       "   activity_flag age_profile  income_flag             family_profile  \\\n",
       "0         active       40-60  High-income  Middle-aged with children   \n",
       "1         active       40-60  High-income  Middle-aged with children   \n",
       "2         active       40-60  High-income  Middle-aged with children   \n",
       "3         active       40-60  High-income  Middle-aged with children   \n",
       "4         active       40-60  High-income  Middle-aged with children   \n",
       "\n",
       "   dependant_status  \n",
       "0     with children  \n",
       "1     with children  \n",
       "2     with children  \n",
       "3     with children  \n",
       "4     with children  \n",
       "\n",
       "[5 rows x 37 columns]"
      ]
     },
     "execution_count": 100,
     "metadata": {},
     "output_type": "execute_result"
    }
   ],
   "source": [
    "# Checking the shape and head of the df_combined\n",
    "df_combined.head()"
   ]
  },
  {
   "cell_type": "code",
   "execution_count": 101,
   "id": "84d7bb27",
   "metadata": {},
   "outputs": [
    {
     "data": {
      "text/plain": [
       "(32404859, 37)"
      ]
     },
     "execution_count": 101,
     "metadata": {},
     "output_type": "execute_result"
    }
   ],
   "source": [
    "df_combined.shape"
   ]
  },
  {
   "cell_type": "code",
   "execution_count": 102,
   "id": "efd19a25",
   "metadata": {},
   "outputs": [],
   "source": [
    "#Exporting Dataframe\n",
    "df_combined.to_pickle(os.path.join(path, '02 Data', 'Prepared Data', 'df_final_dataset.pkl'))"
   ]
  },
  {
   "cell_type": "code",
   "execution_count": null,
   "id": "2f3d2e10",
   "metadata": {},
   "outputs": [],
   "source": []
  }
 ],
 "metadata": {
  "kernelspec": {
   "display_name": "Python 3 (ipykernel)",
   "language": "python",
   "name": "python3"
  },
  "language_info": {
   "codemirror_mode": {
    "name": "ipython",
    "version": 3
   },
   "file_extension": ".py",
   "mimetype": "text/x-python",
   "name": "python",
   "nbconvert_exporter": "python",
   "pygments_lexer": "ipython3",
   "version": "3.10.9"
  }
 },
 "nbformat": 4,
 "nbformat_minor": 5
}
