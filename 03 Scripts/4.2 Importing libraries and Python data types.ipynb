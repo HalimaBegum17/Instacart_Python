{
 "cells": [
  {
   "cell_type": "markdown",
   "id": "f46040ba",
   "metadata": {},
   "source": [
    "## Contents\n",
    "\n",
    "1. [Importing Libraries](#1.-Importing-Libraries)\n",
    "2. [Data Types](#2.-Data-Types)  \n",
    "\t2.1. [Adding and Subtracting Integers](#2.1-Adding-and-Subtracting-Integers)  \n",
    "\t2.2. [Dividing Floating-point variables](#2.2-Diving-Floating-point-variables)  \n",
    "\t2.3. [Strings](#2.3-Strings)    \n",
    "3. [Green Lantern's Oath and Sinestro's Oath](#3.-Green-Lantern's-Oath-and-Sinestro's-Oath)  \n",
    "4. [Bonus Task](#4.-Bonus-Task)"
   ]
  },
  {
   "cell_type": "markdown",
   "id": "c04b5efa",
   "metadata": {},
   "source": [
    "## 1. Importing Libraries"
   ]
  },
  {
   "cell_type": "code",
   "execution_count": 1,
   "id": "4340d67c",
   "metadata": {},
   "outputs": [],
   "source": [
    "# Import Libraries\n",
    "import pandas as pd\n",
    "import numpy as np\n",
    "import os"
   ]
  },
  {
   "cell_type": "markdown",
   "id": "61dffb42",
   "metadata": {},
   "source": [
    "## 2. Data Types"
   ]
  },
  {
   "cell_type": "markdown",
   "id": "ce5e78d1",
   "metadata": {},
   "source": [
    "#### Adding and Subtracting Integers"
   ]
  },
  {
   "cell_type": "code",
   "execution_count": 4,
   "id": "021f8b59",
   "metadata": {},
   "outputs": [],
   "source": [
    "x= 50"
   ]
  },
  {
   "cell_type": "code",
   "execution_count": 5,
   "id": "3a80a871",
   "metadata": {},
   "outputs": [],
   "source": [
    "y= 25"
   ]
  },
  {
   "cell_type": "code",
   "execution_count": 9,
   "id": "ce5eac37",
   "metadata": {},
   "outputs": [
    {
     "data": {
      "text/plain": [
       "100"
      ]
     },
     "execution_count": 9,
     "metadata": {},
     "output_type": "execute_result"
    }
   ],
   "source": [
    "x + (2*y)"
   ]
  },
  {
   "cell_type": "code",
   "execution_count": 11,
   "id": "f90b2c12",
   "metadata": {},
   "outputs": [],
   "source": [
    "a= 'one'"
   ]
  },
  {
   "cell_type": "code",
   "execution_count": 14,
   "id": "5cee3136",
   "metadata": {},
   "outputs": [],
   "source": [
    "b= ' hundred'"
   ]
  },
  {
   "cell_type": "code",
   "execution_count": 15,
   "id": "6178ee41",
   "metadata": {},
   "outputs": [
    {
     "data": {
      "text/plain": [
       "'one hundred'"
      ]
     },
     "execution_count": 15,
     "metadata": {},
     "output_type": "execute_result"
    }
   ],
   "source": [
    "a + b"
   ]
  },
  {
   "cell_type": "code",
   "execution_count": 16,
   "id": "277dd20d",
   "metadata": {},
   "outputs": [],
   "source": [
    "x= 200"
   ]
  },
  {
   "cell_type": "code",
   "execution_count": 17,
   "id": "52ebb043",
   "metadata": {},
   "outputs": [],
   "source": [
    "y= 1000"
   ]
  },
  {
   "cell_type": "code",
   "execution_count": 18,
   "id": "ca849f05",
   "metadata": {},
   "outputs": [
    {
     "data": {
      "text/plain": [
       "100.0"
      ]
     },
     "execution_count": 18,
     "metadata": {},
     "output_type": "execute_result"
    }
   ],
   "source": [
    "x - (y/10)"
   ]
  },
  {
   "cell_type": "markdown",
   "id": "7894c3b1",
   "metadata": {},
   "source": [
    "#### Dividing Floating-point variables"
   ]
  },
  {
   "cell_type": "code",
   "execution_count": 19,
   "id": "e42a8bb7",
   "metadata": {},
   "outputs": [],
   "source": [
    "x= 4.75"
   ]
  },
  {
   "cell_type": "code",
   "execution_count": 20,
   "id": "08ec6522",
   "metadata": {},
   "outputs": [],
   "source": [
    "y= 1.25"
   ]
  },
  {
   "cell_type": "code",
   "execution_count": 21,
   "id": "8eaa720f",
   "metadata": {},
   "outputs": [
    {
     "data": {
      "text/plain": [
       "3.8"
      ]
     },
     "execution_count": 21,
     "metadata": {},
     "output_type": "execute_result"
    }
   ],
   "source": [
    "x/y"
   ]
  },
  {
   "cell_type": "markdown",
   "id": "ab1b6f8d",
   "metadata": {},
   "source": [
    "#### Strings"
   ]
  },
  {
   "cell_type": "code",
   "execution_count": 23,
   "id": "e66b5e57",
   "metadata": {},
   "outputs": [],
   "source": [
    "a= 'high'"
   ]
  },
  {
   "cell_type": "code",
   "execution_count": 24,
   "id": "4df6020d",
   "metadata": {},
   "outputs": [],
   "source": [
    "b= 'light'"
   ]
  },
  {
   "cell_type": "code",
   "execution_count": 25,
   "id": "acd07917",
   "metadata": {},
   "outputs": [],
   "source": [
    "c= 'ed'"
   ]
  },
  {
   "cell_type": "code",
   "execution_count": 26,
   "id": "759b7eeb",
   "metadata": {},
   "outputs": [
    {
     "data": {
      "text/plain": [
       "'highlighted'"
      ]
     },
     "execution_count": 26,
     "metadata": {},
     "output_type": "execute_result"
    }
   ],
   "source": [
    "a + b + c"
   ]
  },
  {
   "cell_type": "markdown",
   "id": "253d7613",
   "metadata": {},
   "source": [
    "## 3. Green Lantern's Oath and Sinestro's Oath"
   ]
  },
  {
   "cell_type": "code",
   "execution_count": 32,
   "id": "86db8cd0",
   "metadata": {},
   "outputs": [],
   "source": [
    "a= 'in brightest '"
   ]
  },
  {
   "cell_type": "code",
   "execution_count": 33,
   "id": "8c02849b",
   "metadata": {},
   "outputs": [],
   "source": [
    "b= 'day, '"
   ]
  },
  {
   "cell_type": "code",
   "execution_count": 34,
   "id": "83a4acb7",
   "metadata": {},
   "outputs": [],
   "source": [
    "c= 'in blackest '"
   ]
  },
  {
   "cell_type": "code",
   "execution_count": 35,
   "id": "a5d0fc6f",
   "metadata": {},
   "outputs": [],
   "source": [
    "d= 'night, '"
   ]
  },
  {
   "cell_type": "code",
   "execution_count": 39,
   "id": "ce932bf8",
   "metadata": {},
   "outputs": [],
   "source": [
    "e= 'no evil shall escape my sight.'"
   ]
  },
  {
   "cell_type": "code",
   "execution_count": 37,
   "id": "d4f3db9b",
   "metadata": {},
   "outputs": [],
   "source": [
    "f= 'beware your fears made into light.'"
   ]
  },
  {
   "cell_type": "code",
   "execution_count": 40,
   "id": "bee55037",
   "metadata": {},
   "outputs": [
    {
     "data": {
      "text/plain": [
       "'in brightest day, in blackest night, no evil shall escape my sight.'"
      ]
     },
     "execution_count": 40,
     "metadata": {},
     "output_type": "execute_result"
    }
   ],
   "source": [
    "a + b + c + d + e"
   ]
  },
  {
   "cell_type": "code",
   "execution_count": 41,
   "id": "e1f42869",
   "metadata": {},
   "outputs": [
    {
     "data": {
      "text/plain": [
       "'in blackest day, in brightest night, beware your fears made into light.'"
      ]
     },
     "execution_count": 41,
     "metadata": {},
     "output_type": "execute_result"
    }
   ],
   "source": [
    "c+b+a+d+f"
   ]
  },
  {
   "cell_type": "markdown",
   "id": "5077da94",
   "metadata": {},
   "source": [
    "## 4. Bonus Task"
   ]
  },
  {
   "cell_type": "code",
   "execution_count": 42,
   "id": "2e7c28e7",
   "metadata": {},
   "outputs": [],
   "source": [
    "a= 'na '"
   ]
  },
  {
   "cell_type": "code",
   "execution_count": 43,
   "id": "242696b6",
   "metadata": {},
   "outputs": [],
   "source": [
    "b= 'batman!'"
   ]
  },
  {
   "cell_type": "code",
   "execution_count": 44,
   "id": "2b0aa344",
   "metadata": {},
   "outputs": [
    {
     "data": {
      "text/plain": [
       "'na na na na na na na na na na na na na na na na na na na na na na na na na na na na na na na na na na na na na na na na na na na na na na na na na na na na na na na na na na na na na na na na na na na na na na na na na na na na na na na na na na na na na na na na na na na na na na na na na na na na batman!'"
      ]
     },
     "execution_count": 44,
     "metadata": {},
     "output_type": "execute_result"
    }
   ],
   "source": [
    "a*100 + b"
   ]
  },
  {
   "cell_type": "code",
   "execution_count": null,
   "id": "54ca33d5",
   "metadata": {},
   "outputs": [],
   "source": []
  }
 ],
 "metadata": {
  "kernelspec": {
   "display_name": "Python 3 (ipykernel)",
   "language": "python",
   "name": "python3"
  },
  "language_info": {
   "codemirror_mode": {
    "name": "ipython",
    "version": 3
   },
   "file_extension": ".py",
   "mimetype": "text/x-python",
   "name": "python",
   "nbconvert_exporter": "python",
   "pygments_lexer": "ipython3",
   "version": "3.10.9"
  }
 },
 "nbformat": 4,
 "nbformat_minor": 5
}
